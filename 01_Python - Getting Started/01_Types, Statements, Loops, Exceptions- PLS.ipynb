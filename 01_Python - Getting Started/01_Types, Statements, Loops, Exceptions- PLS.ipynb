{
 "cells": [
  {
   "cell_type": "markdown",
   "metadata": {},
   "source": [
    "### Types in Python\n",
    "\n",
    "Unlike in other languages, in Python you aren't required to declare types, which will cause errors if you try to combine some data types."
   ]
  },
  {
   "cell_type": "code",
   "execution_count": 1,
   "metadata": {
    "collapsed": true
   },
   "outputs": [],
   "source": [
    "# Type hinting:\n",
    "# https://www.python.org/dev/peps/pep-0484/\n",
    "\n",
    "def add_numbers(a: int, b: int) -> int:\n",
    "    return a + b\n",
    "\n",
    "def greeting(name: str) -> str:\n",
    "    return 'Hello ' + name"
   ]
  },
  {
   "cell_type": "markdown",
   "metadata": {},
   "source": [
    "#### Integers\n",
    "- int\n",
    "- numbers, can be +, -, 0\n",
    "\n",
    "\n",
    "#### Floats\n",
    "- float \n",
    "- decimal numbers\n",
    "\n",
    "\n",
    "#### String\n",
    "- str\n",
    "- single and double quotes both work\n",
    "- support a lot of methods including\n",
    "    - .capitalize\n",
    "    - .replace\n",
    "    - .isalpha\n",
    "    - .isdigit (useful when converting to integers)\n",
    "    - .split\n"
   ]
  },
  {
   "cell_type": "code",
   "execution_count": 2,
   "metadata": {},
   "outputs": [
    {
     "data": {
      "text/plain": [
       "'Nice to meet you Bob. I am Joe'"
      ]
     },
     "execution_count": 2,
     "metadata": {},
     "output_type": "execute_result"
    }
   ],
   "source": [
    "# String format function\n",
    "\n",
    "user = \"Bob\"\n",
    "name = \"Joe\"\n",
    "\n",
    "\"Nice to meet you {0}. I am {1}\".format(user, name)"
   ]
  },
  {
   "cell_type": "code",
   "execution_count": 3,
   "metadata": {},
   "outputs": [
    {
     "data": {
      "text/plain": [
       "'Nice to meet you Bob. I am Joe.'"
      ]
     },
     "execution_count": 3,
     "metadata": {},
     "output_type": "execute_result"
    }
   ],
   "source": [
    "# f-strings\n",
    "\n",
    "f\"Nice to meet you {user}. I am {name}.\""
   ]
  },
  {
   "cell_type": "markdown",
   "metadata": {},
   "source": [
    "#### Bool and None\n",
    "\n",
    "A boolean indicates a True or a False value."
   ]
  },
  {
   "cell_type": "code",
   "execution_count": 4,
   "metadata": {},
   "outputs": [
    {
     "name": "stdout",
     "output_type": "stream",
     "text": [
      "1\n",
      "0\n",
      "True\n"
     ]
    }
   ],
   "source": [
    "python = True\n",
    "java = False\n",
    "print(int(python))\n",
    "print(int(java))\n",
    "print(str(python))"
   ]
  },
  {
   "cell_type": "markdown",
   "metadata": {},
   "source": [
    "None is similar to Null in other languages. Says that a variable is defined, but is not associated with any value.\n",
    "\n",
    "The type of None is called NoneType."
   ]
  },
  {
   "cell_type": "code",
   "execution_count": 5,
   "metadata": {
    "collapsed": true
   },
   "outputs": [],
   "source": [
    "aliens = None"
   ]
  },
  {
   "cell_type": "code",
   "execution_count": 6,
   "metadata": {},
   "outputs": [
    {
     "name": "stdout",
     "output_type": "stream",
     "text": [
      "This will execute\n"
     ]
    }
   ],
   "source": [
    "if python:\n",
    "    print('This will execute')\n",
    "    \n",
    "if aliens:\n",
    "    print('This will NOT execute')"
   ]
  },
  {
   "cell_type": "markdown",
   "metadata": {},
   "source": [
    "### If statements\n",
    "\n"
   ]
  },
  {
   "cell_type": "code",
   "execution_count": 7,
   "metadata": {},
   "outputs": [
    {
     "name": "stdout",
     "output_type": "stream",
     "text": [
      "Number is 5\n"
     ]
    }
   ],
   "source": [
    "number = 5\n",
    "if number == 5:\n",
    "    print('Number is 5')\n",
    "else:\n",
    "    print('Number is NOT 5')"
   ]
  },
  {
   "cell_type": "markdown",
   "metadata": {},
   "source": [
    "#### Truthy and Falsy Values"
   ]
  },
  {
   "cell_type": "code",
   "execution_count": 8,
   "metadata": {},
   "outputs": [
    {
     "name": "stdout",
     "output_type": "stream",
     "text": [
      "Number is defined and truthy\n",
      "Text is defined and truthy\n"
     ]
    }
   ],
   "source": [
    "number = 5\n",
    "if number:\n",
    "    print('Number is defined and truthy')\n",
    "    \n",
    "text = 'Python'\n",
    "if text:\n",
    "    print('Text is defined and truthy')"
   ]
  },
  {
   "cell_type": "markdown",
   "metadata": {},
   "source": [
    "#### Not If\n",
    "\n",
    "To check and see if your condition is false, you can use the != sign."
   ]
  },
  {
   "cell_type": "code",
   "execution_count": 9,
   "metadata": {
    "collapsed": true
   },
   "outputs": [],
   "source": [
    "number = 5\n",
    "if number != 5:\n",
    "    print('This will not execute')\n",
    "    \n",
    "python = True\n",
    "if not python:\n",
    "    print('This will also not execute')"
   ]
  },
  {
   "cell_type": "markdown",
   "metadata": {},
   "source": [
    "#### Multiple If Conditions"
   ]
  },
  {
   "cell_type": "code",
   "execution_count": 10,
   "metadata": {},
   "outputs": [
    {
     "name": "stdout",
     "output_type": "stream",
     "text": [
      "This will execute\n",
      "This will also execute\n"
     ]
    }
   ],
   "source": [
    "number = 3\n",
    "python = True\n",
    "\n",
    "if number == 3 and python:\n",
    "    print('This will execute')\n",
    "    \n",
    "if number == 17 or python:\n",
    "    print('This will also execute')"
   ]
  },
  {
   "cell_type": "markdown",
   "metadata": {},
   "source": [
    "#### Ternary If Statements\n",
    "\n",
    "Useful for list comprehensions"
   ]
  },
  {
   "cell_type": "code",
   "execution_count": 11,
   "metadata": {},
   "outputs": [
    {
     "data": {
      "text/plain": [
       "'smaller'"
      ]
     },
     "execution_count": 11,
     "metadata": {},
     "output_type": "execute_result"
    }
   ],
   "source": [
    "a = 1\n",
    "b = 2\n",
    "\"bigger\" if a > b else \"smaller\""
   ]
  },
  {
   "cell_type": "markdown",
   "metadata": {},
   "source": [
    "### Lists\n",
    "\n",
    "Holding multiple objects under one variable name. It is okay to have miltiple types in a list, but might be best to avoid.\n",
    "\n",
    "Use an index to access an object."
   ]
  },
  {
   "cell_type": "code",
   "execution_count": 12,
   "metadata": {},
   "outputs": [
    {
     "name": "stdout",
     "output_type": "stream",
     "text": [
      "Mark\n",
      "Jessica\n"
     ]
    },
    {
     "data": {
      "text/plain": [
       "False"
      ]
     },
     "execution_count": 12,
     "metadata": {},
     "output_type": "execute_result"
    }
   ],
   "source": [
    "student_names = []\n",
    "student_names = ['Mark', 'Katerina', 'Jessica']\n",
    "\n",
    "print(student_names[0])\n",
    "print(student_names[-1])\n",
    "\n",
    "'Mark' in student_names == True"
   ]
  },
  {
   "cell_type": "code",
   "execution_count": 13,
   "metadata": {},
   "outputs": [
    {
     "name": "stdout",
     "output_type": "stream",
     "text": [
      "['James', 'Katerina', 'Jessica']\n"
     ]
    }
   ],
   "source": [
    "student_names[0] = 'James'\n",
    "print(student_names)"
   ]
  },
  {
   "cell_type": "code",
   "execution_count": 14,
   "metadata": {},
   "outputs": [
    {
     "name": "stdout",
     "output_type": "stream",
     "text": [
      "['James', 'Katerina', 'Jessica', 'Roger']\n"
     ]
    }
   ],
   "source": [
    "student_names.append('Roger')\n",
    "print(student_names)"
   ]
  },
  {
   "cell_type": "code",
   "execution_count": 15,
   "metadata": {},
   "outputs": [
    {
     "name": "stdout",
     "output_type": "stream",
     "text": [
      "4\n"
     ]
    }
   ],
   "source": [
    "print(len(student_names))"
   ]
  },
  {
   "cell_type": "markdown",
   "metadata": {},
   "source": [
    "#### List slicing"
   ]
  },
  {
   "cell_type": "code",
   "execution_count": 16,
   "metadata": {},
   "outputs": [
    {
     "data": {
      "text/plain": [
       "['Katerina', 'Jessica', 'Roger']"
      ]
     },
     "execution_count": 16,
     "metadata": {},
     "output_type": "execute_result"
    }
   ],
   "source": [
    "student_names[1:]"
   ]
  },
  {
   "cell_type": "markdown",
   "metadata": {},
   "source": [
    "### Loops\n",
    "\n",
    "2 main loops in Python\n",
    "- for loops\n",
    "- while loops"
   ]
  },
  {
   "cell_type": "code",
   "execution_count": 17,
   "metadata": {},
   "outputs": [
    {
     "data": {
      "text/plain": [
       "['James', 'Katerina', 'Jessica', 'Roger']"
      ]
     },
     "execution_count": 17,
     "metadata": {},
     "output_type": "execute_result"
    }
   ],
   "source": [
    "student_names"
   ]
  },
  {
   "cell_type": "markdown",
   "metadata": {},
   "source": [
    "Every time the code goes through a for loop, it is called an iteration."
   ]
  },
  {
   "cell_type": "code",
   "execution_count": 18,
   "metadata": {},
   "outputs": [
    {
     "name": "stdout",
     "output_type": "stream",
     "text": [
      "Student name is James\n",
      "Student name is Katerina\n",
      "Student name is Jessica\n",
      "Student name is Roger\n"
     ]
    }
   ],
   "source": [
    "for name in student_names:\n",
    "    print(\"Student name is {0}\". format(name))"
   ]
  },
  {
   "cell_type": "code",
   "execution_count": 19,
   "metadata": {},
   "outputs": [
    {
     "name": "stdout",
     "output_type": "stream",
     "text": [
      "The value of x is 10\n",
      "The value of x is 20\n",
      "The value of x is 30\n",
      "The value of x is 40\n",
      "The value of x is 50\n",
      "The value of x is 60\n",
      "The value of x is 70\n",
      "The value of x is 80\n",
      "The value of x is 90\n",
      "The value of x is 100\n"
     ]
    }
   ],
   "source": [
    "x = 0\n",
    "for index in range(0, 10):\n",
    "    x += 10\n",
    "    print(\"The value of x is {0}\". format(x))"
   ]
  },
  {
   "cell_type": "markdown",
   "metadata": {},
   "source": [
    "#### Break and Continue"
   ]
  },
  {
   "cell_type": "code",
   "execution_count": 20,
   "metadata": {},
   "outputs": [
    {
     "name": "stdout",
     "output_type": "stream",
     "text": [
      "['Robert', 'Roxy', 'George', 'Alan', 'Leo', 'Mark', 'Katerina', 'Jessica']\n"
     ]
    }
   ],
   "source": [
    "student_names = ['Robert', 'Roxy', 'George', 'Alan', \\\n",
    "                 'Leo', 'Mark', 'Katerina', 'Jessica']\n",
    "print(student_names)"
   ]
  },
  {
   "cell_type": "code",
   "execution_count": 21,
   "metadata": {},
   "outputs": [
    {
     "name": "stdout",
     "output_type": "stream",
     "text": [
      "Currently testing Robert\n",
      "Currently testing Roxy\n",
      "Currently testing George\n",
      "Currently testing Alan\n",
      "Found him! Leo\n"
     ]
    }
   ],
   "source": [
    "# stops at 'Leo'\n",
    "\n",
    "for name in student_names:\n",
    "    if name == 'Leo':\n",
    "        print('Found him! ' + name)\n",
    "        break\n",
    "    print(\"Currently testing \" + name)"
   ]
  },
  {
   "cell_type": "code",
   "execution_count": 22,
   "metadata": {},
   "outputs": [
    {
     "name": "stdout",
     "output_type": "stream",
     "text": [
      "Currently testing Robert\n",
      "Currently testing Roxy\n",
      "Currently testing George\n",
      "Currently testing Alan\n",
      "Currently testing Leo\n",
      "Currently testing Katerina\n",
      "Currently testing Jessica\n"
     ]
    }
   ],
   "source": [
    "# iterations for every element except 'Mark'\n",
    "\n",
    "for name in student_names:\n",
    "    if name == 'Mark':\n",
    "        continue\n",
    "        print('Found him! ' + name)\n",
    "    print('Currently testing ' + name)"
   ]
  },
  {
   "cell_type": "markdown",
   "metadata": {},
   "source": [
    "#### While Loops\n",
    "\n",
    "Have to manually increment the index (or x value in this case) at the end of our while loop"
   ]
  },
  {
   "cell_type": "code",
   "execution_count": 23,
   "metadata": {},
   "outputs": [
    {
     "name": "stdout",
     "output_type": "stream",
     "text": [
      "Count is 0\n",
      "Count is 1\n",
      "Count is 2\n",
      "Count is 3\n",
      "Count is 4\n",
      "Count is 5\n",
      "Count is 6\n",
      "Count is 7\n",
      "Count is 8\n",
      "Count is 9\n"
     ]
    }
   ],
   "source": [
    "x = 0\n",
    "while x < 10:\n",
    "    print('Count is {0}'.format(x))\n",
    "    x += 1"
   ]
  },
  {
   "cell_type": "markdown",
   "metadata": {},
   "source": [
    "While true can be useful when you want to keep repeating a certain code all the time until something happens."
   ]
  },
  {
   "cell_type": "code",
   "execution_count": null,
   "metadata": {
    "collapsed": true
   },
   "outputs": [],
   "source": [
    "# goes on forever\n",
    "\n",
    "num = 10\n",
    "while True:\n",
    "    if num == 47:\n",
    "        break\n",
    "    print('Hello world!')"
   ]
  },
  {
   "cell_type": "markdown",
   "metadata": {},
   "source": [
    "### Dictionaries\n",
    "\n",
    "Dictionaries allow you to store key value pairs of any data very easily. Very useful for storing structured data.\n",
    "\n",
    "Very easy to convert them into a JSON."
   ]
  },
  {
   "cell_type": "code",
   "execution_count": 24,
   "metadata": {},
   "outputs": [
    {
     "name": "stdout",
     "output_type": "stream",
     "text": [
      "{'name': 'Mark', 'student_id': 15163, 'feedback': None}\n"
     ]
    }
   ],
   "source": [
    "student = {\n",
    "    'name': 'Mark',\n",
    "    'student_id': 15163,\n",
    "    'feedback': None\n",
    "}\n",
    "\n",
    "print(student)"
   ]
  },
  {
   "cell_type": "markdown",
   "metadata": {},
   "source": [
    "#### Lists of Dictionaries"
   ]
  },
  {
   "cell_type": "code",
   "execution_count": 25,
   "metadata": {
    "collapsed": true
   },
   "outputs": [],
   "source": [
    "all_students = [\n",
    "    {'name': 'Mark', 'student_id': 15163 },\n",
    "    {'name': 'Katerina', 'student_id': 17169 },\n",
    "    {'name': 'Rosy', 'student_id': 15186 },\n",
    "]"
   ]
  },
  {
   "cell_type": "markdown",
   "metadata": {},
   "source": [
    "#### Dictionary Data"
   ]
  },
  {
   "cell_type": "code",
   "execution_count": 26,
   "metadata": {},
   "outputs": [
    {
     "data": {
      "text/plain": [
       "dict_keys(['name', 'student_id', 'feedback'])"
      ]
     },
     "execution_count": 26,
     "metadata": {},
     "output_type": "execute_result"
    }
   ],
   "source": [
    "student['name'] == 'Mark'\n",
    "student.keys()"
   ]
  },
  {
   "cell_type": "code",
   "execution_count": 27,
   "metadata": {},
   "outputs": [
    {
     "data": {
      "text/plain": [
       "dict_values(['Mark', 15163, None])"
      ]
     },
     "execution_count": 27,
     "metadata": {},
     "output_type": "execute_result"
    }
   ],
   "source": [
    "student.values()"
   ]
  },
  {
   "cell_type": "markdown",
   "metadata": {},
   "source": [
    "### Exceptions\n",
    "\n",
    "#### Exception handling\n",
    "\n",
    "Use try and except blocks of code.\n"
   ]
  },
  {
   "cell_type": "code",
   "execution_count": 28,
   "metadata": {},
   "outputs": [
    {
     "ename": "KeyError",
     "evalue": "'last_name'",
     "output_type": "error",
     "traceback": [
      "\u001b[0;31m---------------------------------------------------------------------------\u001b[0m",
      "\u001b[0;31mKeyError\u001b[0m                                  Traceback (most recent call last)",
      "\u001b[0;32m<ipython-input-28-30e842aa4233>\u001b[0m in \u001b[0;36m<module>\u001b[0;34m()\u001b[0m\n\u001b[0;32m----> 1\u001b[0;31m \u001b[0mlast_name\u001b[0m \u001b[0;34m=\u001b[0m \u001b[0mstudent\u001b[0m\u001b[0;34m[\u001b[0m\u001b[0;34m'last_name'\u001b[0m\u001b[0;34m]\u001b[0m\u001b[0;34m\u001b[0m\u001b[0m\n\u001b[0m",
      "\u001b[0;31mKeyError\u001b[0m: 'last_name'"
     ]
    }
   ],
   "source": [
    "last_name = student['last_name']"
   ]
  },
  {
   "cell_type": "code",
   "execution_count": 29,
   "metadata": {},
   "outputs": [
    {
     "name": "stdout",
     "output_type": "stream",
     "text": [
      "Error finding last_name\n",
      "This code executes\n"
     ]
    }
   ],
   "source": [
    "# telling Python to attempt and retrieve except if\n",
    "# there's a key error\n",
    "\n",
    "try:\n",
    "    last_name = student['last_name']\n",
    "except KeyError:\n",
    "    print('Error finding last_name')\n",
    "\n",
    "print('This code executes')"
   ]
  },
  {
   "cell_type": "code",
   "execution_count": 30,
   "metadata": {},
   "outputs": [
    {
     "name": "stdout",
     "output_type": "stream",
     "text": [
      "I can't add these two together!\n",
      "This code executes\n"
     ]
    }
   ],
   "source": [
    "student['last_name'] = 'Kowalski'\n",
    "\n",
    "try:\n",
    "    last_name = student['last_name']\n",
    "    numbered_last_name = 3 + last_name\n",
    "except KeyError:\n",
    "    print('Error finding last_name')\n",
    "except TypeError:\n",
    "    print(\"I can't add these two together!\")\n",
    "\n",
    "print('This code executes')"
   ]
  },
  {
   "cell_type": "code",
   "execution_count": 31,
   "metadata": {},
   "outputs": [
    {
     "name": "stdout",
     "output_type": "stream",
     "text": [
      "I can't add these two together!\n",
      "This code executes\n"
     ]
    }
   ],
   "source": [
    "# except Exception is too broad\n",
    "\n",
    "student['last_name'] = 'Kowalski'\n",
    "\n",
    "try:\n",
    "    last_name = student['last_name']\n",
    "    numbered_last_name = 3 + last_name\n",
    "except KeyError:\n",
    "    print('Error finding last_name')\n",
    "except TypeError:\n",
    "    print(\"I can't add these two together!\")\n",
    "except Exception:\n",
    "    print('Unknown error')\n",
    "\n",
    "print('This code executes')"
   ]
  },
  {
   "cell_type": "code",
   "execution_count": 32,
   "metadata": {},
   "outputs": [
    {
     "name": "stdout",
     "output_type": "stream",
     "text": [
      "I can't add these two together!\n",
      "unsupported operand type(s) for +: 'int' and 'str'\n",
      "This code executes\n"
     ]
    }
   ],
   "source": [
    "student['last_name'] = 'Kowalski'\n",
    "\n",
    "try:\n",
    "    last_name = student['last_name']\n",
    "    numbered_last_name = 3 + last_name\n",
    "except KeyError:\n",
    "    print('Error finding last_name')\n",
    "except TypeError as error:\n",
    "    print(\"I can't add these two together!\")\n",
    "    print(error)\n",
    "\n",
    "print('This code executes')"
   ]
  },
  {
   "cell_type": "markdown",
   "metadata": {},
   "source": [
    "### Other Data Types"
   ]
  },
  {
   "cell_type": "markdown",
   "metadata": {
    "collapsed": true
   },
   "source": [
    "#### Complex \n",
    "- complex numbers\n",
    "\n",
    "\n",
    "\n",
    "#### Bytes and bytearrays\n",
    "- a sequence of integers in the range of 0 to 255\n",
    "- a sequence of strings or other objects, etc\n",
    "\n",
    "\n",
    "#### Tuples\n",
    "- similar to lists but are immutable\n",
    "\n",
    "\n",
    "#### Sets and frozensets\n",
    "- similar to lists\n",
    "- only have unique objects\n",
    "- can use them to get rid of any duplicate elements in a list\n",
    "    - orders the list\n",
    "\n"
   ]
  },
  {
   "cell_type": "code",
   "execution_count": 35,
   "metadata": {},
   "outputs": [
    {
     "data": {
      "text/plain": [
       "{1, 2, 3, 4, 5}"
      ]
     },
     "execution_count": 35,
     "metadata": {},
     "output_type": "execute_result"
    }
   ],
   "source": [
    "set([3, 2, 4, 1, 5, 5])"
   ]
  }
 ],
 "metadata": {
  "kernelspec": {
   "display_name": "Python 3",
   "language": "python",
   "name": "python3"
  },
  "language_info": {
   "codemirror_mode": {
    "name": "ipython",
    "version": 3
   },
   "file_extension": ".py",
   "mimetype": "text/x-python",
   "name": "python",
   "nbconvert_exporter": "python",
   "pygments_lexer": "ipython3",
   "version": "3.6.3"
  }
 },
 "nbformat": 4,
 "nbformat_minor": 2
}
