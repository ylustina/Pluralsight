{
 "cells": [
  {
   "cell_type": "markdown",
   "metadata": {},
   "source": [
    "## Classes\n",
    "\n",
    "A class is a logical group of functions and data. Classes allow you to write more readable and more maintainable code. Think of a class as a blueprint, and the instances are the actual building blocks.\n",
    "\n",
    "When we create a class, we can force certain behavior. For example, we can prohibit the user from creating a new student if they don't supply a name. "
   ]
  },
  {
   "cell_type": "markdown",
   "metadata": {},
   "source": [
    "When you create a new student, you create a new instance of the class. We can create many instances, and each one of them will be independent from each other."
   ]
  },
  {
   "cell_type": "markdown",
   "metadata": {},
   "source": [
    "In Python, we define a class using a class keyword. The functions in a class are called methods.\n",
    "\n",
    "Special methods are only available in classes. There are many special methods, but one of them is called a constructor method. This method is going to be automatically called every time we create a new instance of our class.\n",
    "- By default, it is hidden, but we can define it or override it and provide our own custom implementation."
   ]
  },
  {
   "cell_type": "markdown",
   "metadata": {},
   "source": [
    "### Defining a Class\n",
    "\n",
    "\n",
    "\n"
   ]
  },
  {
   "cell_type": "code",
   "execution_count": 3,
   "metadata": {
    "collapsed": true
   },
   "outputs": [],
   "source": [
    "class Student:\n",
    "    pass\n",
    "\n",
    "student = Student()\n",
    "\n",
    "new_student = Student()\n",
    "\n",
    "\n",
    "# mark = Student('Mark')\n",
    "# james = Student('James')\n",
    "# jessica = Student('Jessica')"
   ]
  },
  {
   "cell_type": "markdown",
   "metadata": {
    "collapsed": true
   },
   "source": [
    "### Adding Methods to Classes"
   ]
  },
  {
   "cell_type": "code",
   "execution_count": 6,
   "metadata": {},
   "outputs": [
    {
     "name": "stdout",
     "output_type": "stream",
     "text": [
      "[{'name': 'Michael', 'student_id': 0}]\n"
     ]
    }
   ],
   "source": [
    "students = []\n",
    "\n",
    "class Student:\n",
    "    def add_student(self, name, student_id=0):\n",
    "        student = {'name': name, 'student_id': student_id}\n",
    "        students.append(student)\n",
    "        \n",
    "student = Student()\n",
    "student.add_student('Michael')\n",
    "\n",
    "print(students)"
   ]
  },
  {
   "cell_type": "markdown",
   "metadata": {},
   "source": [
    "### Constructor and Other Special Methods\n",
    "\n",
    "A constructor method is a special method in Python classes that gets executed every time you create a new instance of a class. By default, it is hidden, but we can create our own and customize the class instantiation behavior. \n",
    "- For the Student class, we want the capability to immediately add the name and student ID as soon as we create a new instance of our Student class.\n",
    "- Will require us to provide it with parameters when when we create a new instance of our class.\n",
    "\n",
    "The constructor method in Python is \\__init__."
   ]
  },
  {
   "cell_type": "code",
   "execution_count": 7,
   "metadata": {},
   "outputs": [
    {
     "ename": "TypeError",
     "evalue": "__init__() missing 1 required positional argument: 'name'",
     "output_type": "error",
     "traceback": [
      "\u001b[0;31m---------------------------------------------------------------------------\u001b[0m",
      "\u001b[0;31mTypeError\u001b[0m                                 Traceback (most recent call last)",
      "\u001b[0;32m<ipython-input-7-975c97ab518c>\u001b[0m in \u001b[0;36m<module>\u001b[0;34m()\u001b[0m\n\u001b[1;32m      6\u001b[0m         \u001b[0mstudents\u001b[0m\u001b[0;34m.\u001b[0m\u001b[0mappend\u001b[0m\u001b[0;34m(\u001b[0m\u001b[0mstudent\u001b[0m\u001b[0;34m)\u001b[0m\u001b[0;34m\u001b[0m\u001b[0m\n\u001b[1;32m      7\u001b[0m \u001b[0;34m\u001b[0m\u001b[0m\n\u001b[0;32m----> 8\u001b[0;31m \u001b[0mstudent\u001b[0m \u001b[0;34m=\u001b[0m \u001b[0mStudent\u001b[0m\u001b[0;34m(\u001b[0m\u001b[0;34m)\u001b[0m\u001b[0;34m\u001b[0m\u001b[0m\n\u001b[0m",
      "\u001b[0;31mTypeError\u001b[0m: __init__() missing 1 required positional argument: 'name'"
     ]
    }
   ],
   "source": [
    "students = []\n",
    "\n",
    "class Student:\n",
    "    def __init__(self, name, student_id=0):\n",
    "        student = {'name': name, 'student_id': student_id}\n",
    "        students.append(student)\n",
    "        \n",
    "student = Student()"
   ]
  },
  {
   "cell_type": "code",
   "execution_count": 14,
   "metadata": {},
   "outputs": [
    {
     "name": "stdout",
     "output_type": "stream",
     "text": [
      "<__main__.Student object at 0x10d312e48>\n"
     ]
    }
   ],
   "source": [
    "students = []\n",
    "\n",
    "class Student:\n",
    "    def __init__(self, name, student_id=0):\n",
    "        student = {'name': name, 'student_id': student_id}\n",
    "        students.append(student)\n",
    "    \n",
    "matthew = Student('Matthew')\n",
    "\n",
    "print(matthew)"
   ]
  },
  {
   "cell_type": "code",
   "execution_count": 13,
   "metadata": {},
   "outputs": [
    {
     "name": "stdout",
     "output_type": "stream",
     "text": [
      "[{'name': 'Matthew', 'student_id': 0}]\n",
      "Student\n"
     ]
    }
   ],
   "source": [
    "students = []\n",
    "\n",
    "class Student:\n",
    "    def __init__(self, name, student_id=0):\n",
    "        student = {'name': name, 'student_id': student_id}\n",
    "        students.append(student)\n",
    "      \n",
    "    # overrides method in object\n",
    "    def __str__(self):\n",
    "        return 'Student'\n",
    "    \n",
    "matthew = Student('Matthew')\n",
    "\n",
    "print(students)\n",
    "print(matthew)"
   ]
  },
  {
   "cell_type": "markdown",
   "metadata": {},
   "source": [
    "### Instance and Class Attributes\n",
    "\n",
    "Class and instance attributes are data that can be found in your class like a string, an integer, etc., and that can be accessed from all the methods inside your class.\n",
    "\n"
   ]
  },
  {
   "cell_type": "markdown",
   "metadata": {
    "collapsed": true
   },
   "source": [
    "#### Instance Attributes\n",
    "\n",
    "Two ways to set instance attributes:\n",
    "- Using the constructor method (like below)\n",
    "- Using setters\n",
    "\n",
    "With setters, you can have a method called set_age or set_student_id, and that is going to set the instance attribute for our particular student."
   ]
  },
  {
   "cell_type": "code",
   "execution_count": 19,
   "metadata": {},
   "outputs": [
    {
     "name": "stdout",
     "output_type": "stream",
     "text": [
      "Student David\n"
     ]
    }
   ],
   "source": [
    "students = []\n",
    "\n",
    "class Student:\n",
    "    def __init__(self, name, student_id=0):\n",
    "        self.name = name\n",
    "        self.student_id = student_id\n",
    "        students.append(self)\n",
    "      \n",
    "    def __str__(self):\n",
    "        return 'Student ' + self.name \n",
    "    \n",
    "    def get_name_capitalize(self):\n",
    "        return self.name.capitalize()\n",
    "    \n",
    "david = Student('David')\n",
    "print(david)"
   ]
  },
  {
   "cell_type": "markdown",
   "metadata": {},
   "source": [
    "self refers to the instance of our class. Therefore, when we set the name and the student ID for our entire instance, those two variables will be available throughout the entire instance including any methods that we have. \n",
    "\n",
    "That's why we can use self.name in our get_name_capitalize method because that method will be aware of all our instance attributes including the name. \n",
    "\n",
    "Now the student list is going to be a list of all student classes with all the methods and attributes it carries. "
   ]
  },
  {
   "cell_type": "markdown",
   "metadata": {},
   "source": [
    "#### Class Attributes\n",
    "\n",
    "Similar to instance attributes, the difference being that they're usually not defined in a method, and they're not tied to self or the instance. They are static, and do not change with the instance.\n",
    "\n",
    "To define a class attribute, put it outside any of the method bodies in your class, but inside your class body."
   ]
  },
  {
   "cell_type": "markdown",
   "metadata": {},
   "source": [
    "Useful if you wanted to have a class attribute be the same across all students, like all the students going to the same school."
   ]
  },
  {
   "cell_type": "code",
   "execution_count": 20,
   "metadata": {},
   "outputs": [
    {
     "name": "stdout",
     "output_type": "stream",
     "text": [
      "Springfield Elementary\n"
     ]
    }
   ],
   "source": [
    "students = []\n",
    "\n",
    "class Student:\n",
    "    \n",
    "    school_name = 'Springfield Elementary'\n",
    "    \n",
    "    def __init__(self, name, student_id=0):\n",
    "        self.name = name\n",
    "        self.student_id = student_id\n",
    "        students.append(self)\n",
    "      \n",
    "    def __str__(self):\n",
    "        return 'Student ' + self.name \n",
    "    \n",
    "    def get_name_capitalize(self):\n",
    "        return self.name.capitalize()\n",
    "    \n",
    "    def get_school_name(self):\n",
    "        return self.school_name\n",
    "    \n",
    "print(Student.school_name)"
   ]
  },
  {
   "cell_type": "markdown",
   "metadata": {},
   "source": [
    "### Inheritance and Polymophism\n",
    "\n",
    "When you have two classes defined, you can tie them together. "
   ]
  },
  {
   "cell_type": "markdown",
   "metadata": {
    "collapsed": true
   },
   "source": [
    "\n",
    "Creating a different class (another kind of student) that will inherit the behavior of our existing student class.\n",
    "\n",
    "Derived class can access the parent class methods."
   ]
  },
  {
   "cell_type": "code",
   "execution_count": 25,
   "metadata": {},
   "outputs": [
    {
     "name": "stdout",
     "output_type": "stream",
     "text": [
      "Ricky\n"
     ]
    }
   ],
   "source": [
    "students = []\n",
    "\n",
    "# Parent class\n",
    "class Student:\n",
    "    \n",
    "    school_name = 'Springfield Elementary'\n",
    "    \n",
    "    def __init__(self, name, student_id=0):\n",
    "        self.name = name\n",
    "        self.student_id = student_id\n",
    "        students.append(self)\n",
    "      \n",
    "    def __str__(self):\n",
    "        return 'Student ' + self.name \n",
    "    \n",
    "    def get_name_capitalize(self):\n",
    "        return self.name.capitalize()\n",
    "    \n",
    "    def get_school_name(self):\n",
    "        return self.school_name\n",
    "    \n",
    "    \n",
    "# Derived class\n",
    "class HighSchoolStudent(Student):\n",
    "    \n",
    "    school_name = 'Springfield High'\n",
    "    \n",
    "    \n",
    "ricky = HighSchoolStudent('ricky')\n",
    "print(ricky.get_name_capitalize())"
   ]
  },
  {
   "cell_type": "markdown",
   "metadata": {},
   "source": [
    "In order to override the behavior of the parent class methods, we define the same method in the derived class that we already have in our parent class."
   ]
  },
  {
   "cell_type": "code",
   "execution_count": 27,
   "metadata": {},
   "outputs": [
    {
     "name": "stdout",
     "output_type": "stream",
     "text": [
      "Ricky\n",
      "This is a High School student\n"
     ]
    }
   ],
   "source": [
    "students = []\n",
    "\n",
    "# Parent class\n",
    "class Student:\n",
    "    \n",
    "    school_name = 'Springfield Elementary'\n",
    "    \n",
    "    def __init__(self, name, student_id=0):\n",
    "        self.name = name\n",
    "        self.student_id = student_id\n",
    "        students.append(self)\n",
    "      \n",
    "    def __str__(self):\n",
    "        return 'Student ' + self.name \n",
    "    \n",
    "    def get_name_capitalize(self):\n",
    "        return self.name.capitalize()\n",
    "    \n",
    "    def get_school_name(self):\n",
    "        return self.school_name\n",
    "    \n",
    "    \n",
    "# Derived class\n",
    "class HighSchoolStudent(Student):\n",
    "    \n",
    "    school_name = 'Springfield High'\n",
    "    \n",
    "    def get_school_name(self):\n",
    "        return 'This is a High School student'\n",
    "    \n",
    "    \n",
    "ricky = HighSchoolStudent('ricky')\n",
    "print(ricky.get_name_capitalize())\n",
    "print(ricky.get_school_name())"
   ]
  },
  {
   "cell_type": "markdown",
   "metadata": {},
   "source": [
    "Sometimes you will want to override the method, but still execute the parent class method as well. We can do that by using the super keyword. "
   ]
  },
  {
   "cell_type": "code",
   "execution_count": 30,
   "metadata": {},
   "outputs": [
    {
     "name": "stdout",
     "output_type": "stream",
     "text": [
      "Ricky - HS\n"
     ]
    }
   ],
   "source": [
    "students = []\n",
    "\n",
    "# Parent class\n",
    "class Student:\n",
    "    \n",
    "    school_name = 'Springfield Elementary'\n",
    "    \n",
    "    def __init__(self, name, student_id=0):\n",
    "        self.name = name\n",
    "        self.student_id = student_id\n",
    "        students.append(self)\n",
    "      \n",
    "    def __str__(self):\n",
    "        return 'Student ' + self.name \n",
    "    \n",
    "    def get_name_capitalize(self):\n",
    "        return self.name.capitalize()\n",
    "    \n",
    "    def get_school_name(self):\n",
    "        return self.school_name\n",
    "    \n",
    "    \n",
    "# Derived class\n",
    "class HighSchoolStudent(Student):\n",
    "    \n",
    "    school_name = 'Springfield High'\n",
    "    \n",
    "    def get_name_capitalize(self):\n",
    "        original_value = super().get_name_capitalize()\n",
    "        return original_value + ' - HS'\n",
    "    \n",
    "    \n",
    "ricky = HighSchoolStudent('ricky')\n",
    "print(ricky.get_name_capitalize())"
   ]
  },
  {
   "cell_type": "markdown",
   "metadata": {},
   "source": [
    "### Breaking the App into Modules\n",
    "\n",
    "Generally, you don't want to keep your entire app in a single Python file, especially if it is large."
   ]
  },
  {
   "cell_type": "markdown",
   "metadata": {},
   "source": []
  }
 ],
 "metadata": {
  "kernelspec": {
   "display_name": "Python 3",
   "language": "python",
   "name": "python3"
  },
  "language_info": {
   "codemirror_mode": {
    "name": "ipython",
    "version": 3
   },
   "file_extension": ".py",
   "mimetype": "text/x-python",
   "name": "python",
   "nbconvert_exporter": "python",
   "pygments_lexer": "ipython3",
   "version": "3.6.3"
  }
 },
 "nbformat": 4,
 "nbformat_minor": 2
}
