{
 "cells": [
  {
   "cell_type": "markdown",
   "metadata": {},
   "source": [
    "## Classes\n",
    "\n",
    "A class is a logical group of functions and data. Classes allow you to write more readable and more maintainable code. Think of a class as a blueprint, and the instances are the actual building blocks.\n",
    "\n",
    "When we create a class, we can force certain behavior. For example, we can prohibit the user from creating a new student if they don't supply a name. "
   ]
  },
  {
   "cell_type": "markdown",
   "metadata": {},
   "source": [
    "When you create a new student, you create a new instance of the class. We can create many instances, and each one of them will be independent from each other."
   ]
  },
  {
   "cell_type": "markdown",
   "metadata": {},
   "source": [
    "In Python, we define a class using a class keyword. The functions in a class are called methods.\n",
    "\n",
    "Special methods are only available in classes. There are many special methods, but one of them is called a constructor method. This method is going to be automatically called every time we create a new instance of our class.\n",
    "- By default, it is hidden, but we can define it or override it and provide our own custom implementation."
   ]
  },
  {
   "cell_type": "markdown",
   "metadata": {},
   "source": [
    "### Defining a Class\n",
    "\n",
    "\n",
    "\n"
   ]
  },
  {
   "cell_type": "code",
   "execution_count": 3,
   "metadata": {
    "collapsed": true
   },
   "outputs": [],
   "source": [
    "class Student:\n",
    "    pass\n",
    "\n",
    "student = Student()\n",
    "\n",
    "new_student = Student()\n",
    "\n",
    "\n",
    "# mark = Student('Mark')\n",
    "# james = Student('James')\n",
    "# jessica = Student('Jessica')"
   ]
  },
  {
   "cell_type": "markdown",
   "metadata": {
    "collapsed": true
   },
   "source": [
    "### Adding Methods to Classes"
   ]
  },
  {
   "cell_type": "code",
   "execution_count": 5,
   "metadata": {},
   "outputs": [
    {
     "name": "stdout",
     "output_type": "stream",
     "text": [
      "[{'name': 'Michael', 'student_id': 0}]\n"
     ]
    }
   ],
   "source": [
    "students = []\n",
    "\n",
    "class Student:\n",
    "    def add_student(self, name, student_id=0):\n",
    "        student = {'name': name, 'student_id': student_id}\n",
    "        students.append(student)\n",
    "        \n",
    "student = Student()\n",
    "student.add_student('Michael')\n",
    "\n",
    "print(students)"
   ]
  },
  {
   "cell_type": "code",
   "execution_count": null,
   "metadata": {},
   "outputs": [],
   "source": []
  },
  {
   "cell_type": "markdown",
   "metadata": {},
   "source": [
    "### Constructor and Other Special Methods"
   ]
  },
  {
   "cell_type": "code",
   "execution_count": null,
   "metadata": {
    "collapsed": true
   },
   "outputs": [],
   "source": []
  },
  {
   "cell_type": "markdown",
   "metadata": {},
   "source": [
    "### Instance and Class Attributes\n"
   ]
  },
  {
   "cell_type": "code",
   "execution_count": null,
   "metadata": {
    "collapsed": true
   },
   "outputs": [],
   "source": []
  },
  {
   "cell_type": "markdown",
   "metadata": {},
   "source": [
    "### Inheritance and Polymophism"
   ]
  },
  {
   "cell_type": "code",
   "execution_count": null,
   "metadata": {
    "collapsed": true
   },
   "outputs": [],
   "source": []
  },
  {
   "cell_type": "markdown",
   "metadata": {},
   "source": [
    "### Breaking the App into Modules"
   ]
  },
  {
   "cell_type": "markdown",
   "metadata": {},
   "source": []
  }
 ],
 "metadata": {
  "kernelspec": {
   "display_name": "Python 3",
   "language": "python",
   "name": "python3"
  },
  "language_info": {
   "codemirror_mode": {
    "name": "ipython",
    "version": 3
   },
   "file_extension": ".py",
   "mimetype": "text/x-python",
   "name": "python",
   "nbconvert_exporter": "python",
   "pygments_lexer": "ipython3",
   "version": "3.6.3"
  }
 },
 "nbformat": 4,
 "nbformat_minor": 2
}
