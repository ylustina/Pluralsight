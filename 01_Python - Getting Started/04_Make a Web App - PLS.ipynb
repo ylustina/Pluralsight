{
 "cells": [
  {
   "cell_type": "markdown",
   "metadata": {},
   "source": [
    "## Making a Flask app"
   ]
  },
  {
   "cell_type": "code",
   "execution_count": null,
   "metadata": {
    "collapsed": true
   },
   "outputs": [],
   "source": [
    "from flask import Flask, render_template, redirect, url_for, request\n",
    "\n",
    "from student import Student\n",
    "\n",
    "students = []\n",
    "\n",
    "app=Flask(__name__)\n",
    "\n",
    "\n",
    "@app.route('/', methods=['GET', 'POST'])\n",
    "def students_page():\n",
    "    if request.method == 'POST':\n",
    "        new_student_id = request.form.get('student-id', '')\n",
    "        new_student_name = request.form.get('name', '')\n",
    "        new_student_last_name = request.form.get('last-name', '')\n",
    "\n",
    "        new_student = Student(name=new_student_name, student_id=new_student_id)\n",
    "        students.append(new_student)\n",
    "\n",
    "        return redirect(url_for('students_page'))\n",
    "\n",
    "    return render_template('index.html', students=students)\n",
    "\n",
    "\n",
    "if __name__ == \"__main__\":\n",
    "    app.run(debug=True)"
   ]
  },
  {
   "cell_type": "markdown",
   "metadata": {},
   "source": []
  },
  {
   "cell_type": "code",
   "execution_count": null,
   "metadata": {
    "collapsed": true
   },
   "outputs": [],
   "source": []
  }
 ],
 "metadata": {
  "kernelspec": {
   "display_name": "Python 3",
   "language": "python",
   "name": "python3"
  },
  "language_info": {
   "codemirror_mode": {
    "name": "ipython",
    "version": 3
   },
   "file_extension": ".py",
   "mimetype": "text/x-python",
   "name": "python",
   "nbconvert_exporter": "python",
   "pygments_lexer": "ipython3",
   "version": "3.6.3"
  }
 },
 "nbformat": 4,
 "nbformat_minor": 2
}
