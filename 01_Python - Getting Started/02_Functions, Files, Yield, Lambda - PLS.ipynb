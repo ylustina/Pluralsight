{
 "cells": [
  {
   "cell_type": "markdown",
   "metadata": {
    "collapsed": true
   },
   "source": [
    "### Functions"
   ]
  },
  {
   "cell_type": "markdown",
   "metadata": {},
   "source": [
    "A function is a block of organized and reusable code that is used to perform a certain action.\n",
    "- Python comes with lots of built-in functions\n",
    "\n",
    "\n",
    "Try to make each function do only one thing."
   ]
  },
  {
   "cell_type": "code",
   "execution_count": 42,
   "metadata": {},
   "outputs": [
    {
     "name": "stdout",
     "output_type": "stream",
     "text": [
      "Enter the user's name: \n"
     ]
    }
   ],
   "source": [
    "username = input(\"Enter the user's name: \")"
   ]
  },
  {
   "cell_type": "markdown",
   "metadata": {},
   "source": [
    "#### def"
   ]
  },
  {
   "cell_type": "markdown",
   "metadata": {},
   "source": [
    "Use the def keyword to define a function\n",
    "\n",
    "print( ) just prints the data. When you retrieve the data from get_students_titlecase( ), you can submit it for further processing"
   ]
  },
  {
   "cell_type": "code",
   "execution_count": 84,
   "metadata": {
    "collapsed": true
   },
   "outputs": [],
   "source": [
    "students = []\n",
    "\n",
    "def get_students_titlecase():\n",
    "    students_titlecase = []\n",
    "    for student in students:\n",
    "        students_titlecase.append(student[\"name\"].title())\n",
    "    return students_titlecase\n",
    "\n",
    "# def print_students_titlecase():\n",
    "#     students_titlecase = []\n",
    "#     for student in students:\n",
    "#         students_titlecase = student.title()\n",
    "#     print(students_titlecase)\n",
    "\n",
    "# To get rid of repetition:\n",
    "\n",
    "def print_students_titlecase():\n",
    "    students_titlecase = get_students_titlecase()\n",
    "    print(students_titlecase)\n",
    "    \n",
    "def add_student(name, student_id=0):\n",
    "    student = {'name': name, 'student_id': student_id }\n",
    "    students.append(student)\n",
    "    \n",
    "student_list = get_students_titlecase"
   ]
  },
  {
   "cell_type": "markdown",
   "metadata": {},
   "source": [
    "### Function Arguments"
   ]
  },
  {
   "cell_type": "markdown",
   "metadata": {},
   "source": [
    "Adding arguments to functions involves adding some variable names within the parentheses in the function header. Then you can reuse those variables from within the function. Those variables will be scoped just to the function body. "
   ]
  },
  {
   "cell_type": "code",
   "execution_count": 78,
   "metadata": {
    "collapsed": true
   },
   "outputs": [],
   "source": [
    "# cannot use the variable name outside of the add_student function\n",
    "\n",
    "def add_student(name):\n",
    "    students.append(name)\n",
    "\n",
    "student_list = get_students_titlecase()"
   ]
  },
  {
   "cell_type": "markdown",
   "metadata": {},
   "source": [
    "Adding params or arguments is useful because more often than not, your function is going to depend on some external data. Rather than making that data global and available to every piece of code in your program, you can simply pass the data around and have the function use it.\n",
    "\n",
    "If you have two arguments when you call the function, we have to pass two arguments as well."
   ]
  },
  {
   "cell_type": "code",
   "execution_count": 52,
   "metadata": {},
   "outputs": [
    {
     "name": "stdout",
     "output_type": "stream",
     "text": [
      "[{'name': 'Mark', 'student_id': 332}, {'name': 'Lucy', 'student_id': 0}]\n"
     ]
    }
   ],
   "source": [
    "# Python assumes student_id = 0 if you don't pass it\n",
    "def add_student(name, student_id=0):\n",
    "    student = {'name': name, 'student_id': student_id}\n",
    "    students.append(student)\n",
    "\n",
    "add_student('Mark', 332)\n",
    "\n",
    "# can also \n",
    "# add_student(name='Mark', student_id=332)\n",
    "\n",
    "add_student('Lucy')\n",
    "\n",
    "print(students)"
   ]
  },
  {
   "cell_type": "markdown",
   "metadata": {},
   "source": [
    "#### Variable number of arguments"
   ]
  },
  {
   "cell_type": "markdown",
   "metadata": {},
   "source": [
    "A variable number of arguments allow you to place a special argument, usually called args, with an asterisk. Comes up as a list."
   ]
  },
  {
   "cell_type": "code",
   "execution_count": 47,
   "metadata": {},
   "outputs": [
    {
     "name": "stdout",
     "output_type": "stream",
     "text": [
      "Mark\n",
      "('loves Python', 3)\n"
     ]
    }
   ],
   "source": [
    "def var_args(name, *args):\n",
    "    print(name)\n",
    "    print(args)\n",
    "    \n",
    "var_args('Mark', 'loves Python', 3)"
   ]
  },
  {
   "cell_type": "markdown",
   "metadata": {},
   "source": [
    "#### Keyword arguments"
   ]
  },
  {
   "cell_type": "markdown",
   "metadata": {},
   "source": [
    "Keyword arguments are defined with a double asterisk and then the kwargs. Now, it is a dictionary, not a list, and the keys of the dictionary are the names of the arguments we passed."
   ]
  },
  {
   "cell_type": "code",
   "execution_count": 48,
   "metadata": {},
   "outputs": [
    {
     "name": "stdout",
     "output_type": "stream",
     "text": [
      "Mark\n",
      "loves Python None\n"
     ]
    }
   ],
   "source": [
    "def var_kwargs(name, **kwargs):\n",
    "    print(name)\n",
    "    print(kwargs['description'], kwargs['feedback'])\n",
    "    \n",
    "var_kwargs('Mark', description='loves Python', age=21, \\\n",
    "           feedback=None, pluralsight_subscriber=True)"
   ]
  },
  {
   "cell_type": "markdown",
   "metadata": {},
   "source": [
    "### Adding Students to Our App"
   ]
  },
  {
   "cell_type": "code",
   "execution_count": 64,
   "metadata": {},
   "outputs": [
    {
     "name": "stdout",
     "output_type": "stream",
     "text": [
      "Enter the student name: Robert\n",
      "Enter the student id: 567\n",
      "Robert\n"
     ]
    }
   ],
   "source": [
    "student_name = input('Enter the student name: ')\n",
    "student_id = input('Enter the student id: ')\n",
    "\n",
    "add_student(student_name, student_id)\n",
    "print_students_titlecase()"
   ]
  },
  {
   "cell_type": "markdown",
   "metadata": {},
   "source": [
    "### Nested Functions and Closures"
   ]
  },
  {
   "cell_type": "markdown",
   "metadata": {},
   "source": [
    "You can nest a function within a function. \n",
    "\n",
    "Sometimes you want to delegate a certain task that is only going to be used in one function. You don't want to pollute the rest of your code base with that task, so you simply declare an inner or a nested function within an existing function and then call it from the outer function. \n",
    "\n",
    "The nested function does have access to the variables that are defined in the outer function. This is called a closure and it allows for better interoperability between a nested and an outer function."
   ]
  },
  {
   "cell_type": "code",
   "execution_count": 66,
   "metadata": {
    "collapsed": true
   },
   "outputs": [],
   "source": [
    "def get_students():\n",
    "    students = ['Mark', 'James']\n",
    "    def get_students_titlecase():\n",
    "        students_titlecase = []\n",
    "        for student in students:\n",
    "            students_titlecase.append(student.title())\n",
    "        return students_titlecase\n",
    "    students_titlecase_names = get_students_titlecase()\n",
    "    print(students_titlecase_names)"
   ]
  },
  {
   "cell_type": "markdown",
   "metadata": {},
   "source": [
    "### Opening, Reading, and Writing Files"
   ]
  },
  {
   "cell_type": "markdown",
   "metadata": {},
   "source": [
    "The a denotes that you want to append some text into the file you are saving. The second argument is called the access mode. There are many in Python, including:\n",
    "- 'w': writing; *overwrites the entire file*\n",
    "- 'r': reading a text file\n",
    "- 'a': appending to a new or existing file\n",
    "- 'rb': reading a binary file\n",
    "- 'wb': writing to a binary file\n",
    "\n",
    "Need the module Pickle to save a dictionary to a file in Python.\n",
    "\n",
    "Use a \\n so that every student name we write is written to a new line in the file. Makes it easier for us to parse it later."
   ]
  },
  {
   "cell_type": "code",
   "execution_count": 82,
   "metadata": {},
   "outputs": [
    {
     "name": "stdout",
     "output_type": "stream",
     "text": [
      "['Monica\\n', 'Richard\\n', 'James\\n']\n",
      "Enter a student name: Joey\n",
      "Enter a student ID: 852\n"
     ]
    }
   ],
   "source": [
    "# So far, only saves student names, not ids, etc\n",
    "\n",
    "def save_file(student):\n",
    "    try:\n",
    "        f = open('students.txt', 'a')\n",
    "        f.write(student + '\\n')\n",
    "        f.close()\n",
    "    except Exception:\n",
    "        print('Could not save file.')\n",
    "        \n",
    "def read_file():\n",
    "    try:\n",
    "        f = open('students.txt', 'r')\n",
    "        for student in f.readlines():\n",
    "            add_student(student)\n",
    "        f.close()\n",
    "    except Exception:\n",
    "            print('Could not read file.')\n",
    "            \n",
    "read_file()\n",
    "print_students_titlecase()\n",
    "\n",
    "student_name = input('Enter a student name: ')\n",
    "student_id = input('Enter a student ID: ')\n",
    "\n",
    "add_student(student_name, student_id)\n",
    "save_file(student_name)"
   ]
  },
  {
   "cell_type": "markdown",
   "metadata": {},
   "source": [
    "Program raised the exception we defined in the try-except block, and did not crash."
   ]
  },
  {
   "cell_type": "code",
   "execution_count": 75,
   "metadata": {},
   "outputs": [
    {
     "name": "stdout",
     "output_type": "stream",
     "text": [
      "Monica\n",
      "\n",
      "Enter a student name: Richard\n",
      "Enter a student ID: 857\n"
     ]
    }
   ],
   "source": [
    "read_file()\n",
    "print_students_titlecase()\n",
    "\n",
    "student_name = input('Enter a student name: ')\n",
    "student_id = input('Enter a student ID: ')\n",
    "\n",
    "add_student(student_name, student_id)\n",
    "save_file(student_name)"
   ]
  },
  {
   "cell_type": "markdown",
   "metadata": {},
   "source": [
    "Did not raise an exception because we already had a saved entry - 'Monica'"
   ]
  },
  {
   "cell_type": "code",
   "execution_count": 85,
   "metadata": {},
   "outputs": [
    {
     "name": "stdout",
     "output_type": "stream",
     "text": [
      "['Monica\\n', 'Richard\\n', 'James\\n', 'Joey\\n', 'Phillip\\n']\n",
      "Enter a student name: Phyllis\n",
      "Enter a student ID: 47\n"
     ]
    }
   ],
   "source": [
    "read_file()\n",
    "print_students_titlecase()\n",
    "\n",
    "student_name = input('Enter a student name: ')\n",
    "student_id = input('Enter a student ID: ')\n",
    "\n",
    "add_student(student_name, student_id)\n",
    "save_file(student_name)"
   ]
  },
  {
   "cell_type": "markdown",
   "metadata": {},
   "source": [
    "### Yield"
   ]
  },
  {
   "cell_type": "code",
   "execution_count": null,
   "metadata": {
    "collapsed": true
   },
   "outputs": [],
   "source": []
  },
  {
   "cell_type": "code",
   "execution_count": null,
   "metadata": {
    "collapsed": true
   },
   "outputs": [],
   "source": []
  },
  {
   "cell_type": "markdown",
   "metadata": {},
   "source": [
    "### Lambda Functions"
   ]
  },
  {
   "cell_type": "markdown",
   "metadata": {},
   "source": []
  },
  {
   "cell_type": "code",
   "execution_count": null,
   "metadata": {
    "collapsed": true
   },
   "outputs": [],
   "source": []
  }
 ],
 "metadata": {
  "kernelspec": {
   "display_name": "Python 3",
   "language": "python",
   "name": "python3"
  },
  "language_info": {
   "codemirror_mode": {
    "name": "ipython",
    "version": 3
   },
   "file_extension": ".py",
   "mimetype": "text/x-python",
   "name": "python",
   "nbconvert_exporter": "python",
   "pygments_lexer": "ipython3",
   "version": "3.6.3"
  }
 },
 "nbformat": 4,
 "nbformat_minor": 2
}
