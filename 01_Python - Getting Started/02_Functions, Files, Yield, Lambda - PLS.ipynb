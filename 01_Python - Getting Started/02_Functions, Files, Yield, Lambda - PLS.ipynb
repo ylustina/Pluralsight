{
 "cells": [
  {
   "cell_type": "markdown",
   "metadata": {
    "collapsed": true
   },
   "source": [
    "### Functions"
   ]
  },
  {
   "cell_type": "markdown",
   "metadata": {},
   "source": [
    "A function is a block of organized and reusable code that is used to perform a certain action.\n",
    "- Python comes with lots of built-in functions\n",
    "\n",
    "\n",
    "Try to make each function do only one thing."
   ]
  },
  {
   "cell_type": "code",
   "execution_count": 1,
   "metadata": {},
   "outputs": [
    {
     "name": "stdout",
     "output_type": "stream",
     "text": [
      "Enter the user's name: Jeorge\n"
     ]
    }
   ],
   "source": [
    "username = input(\"Enter the user's name: \")"
   ]
  },
  {
   "cell_type": "markdown",
   "metadata": {},
   "source": [
    "#### def"
   ]
  },
  {
   "cell_type": "markdown",
   "metadata": {},
   "source": [
    "Use the def keyword to define a function\n",
    "\n",
    "print( ) just prints the data. When you retrieve the data from get_students_titlecase( ), you can submit it for further processing"
   ]
  },
  {
   "cell_type": "code",
   "execution_count": 7,
   "metadata": {
    "collapsed": true
   },
   "outputs": [],
   "source": [
    "students = []\n",
    "\n",
    "def get_students_titlecase():\n",
    "    students_titlecase = []\n",
    "    for student in students:\n",
    "        students_titlecase = student.title()\n",
    "    return students_titlecase\n",
    "\n",
    "def print_students_titlecase():\n",
    "    students_titlecase = []\n",
    "    for student in students:\n",
    "        students_titlecase = student.title()\n",
    "    print(students_titlecase)"
   ]
  },
  {
   "cell_type": "code",
   "execution_count": 10,
   "metadata": {
    "collapsed": true
   },
   "outputs": [],
   "source": [
    "def get_students_titlecase():\n",
    "    students_titlecase = []\n",
    "    for student in students:\n",
    "        students_titlecase = student.title()\n",
    "    return students_titlecase\n",
    "\n",
    "# Get rid of repetition!\n",
    "def print_students_titlecase():\n",
    "    student_titlecase = get_students_titlecase()\n",
    "    print(students_titlecase)\n",
    "    \n",
    "def add_student(name):\n",
    "    students.append(name)\n",
    "\n",
    "student_list = get_students_titlecase()\n",
    "\n",
    "add_student('Mark')"
   ]
  },
  {
   "cell_type": "code",
   "execution_count": null,
   "metadata": {
    "collapsed": true
   },
   "outputs": [],
   "source": []
  },
  {
   "cell_type": "code",
   "execution_count": null,
   "metadata": {
    "collapsed": true
   },
   "outputs": [],
   "source": []
  }
 ],
 "metadata": {
  "kernelspec": {
   "display_name": "Python 3",
   "language": "python",
   "name": "python3"
  },
  "language_info": {
   "codemirror_mode": {
    "name": "ipython",
    "version": 3
   },
   "file_extension": ".py",
   "mimetype": "text/x-python",
   "name": "python",
   "nbconvert_exporter": "python",
   "pygments_lexer": "ipython3",
   "version": "3.6.3"
  }
 },
 "nbformat": 4,
 "nbformat_minor": 2
}
