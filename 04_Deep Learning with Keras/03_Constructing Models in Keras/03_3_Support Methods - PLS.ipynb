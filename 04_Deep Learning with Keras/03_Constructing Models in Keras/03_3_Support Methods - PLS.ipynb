{
 "cells": [
  {
   "cell_type": "markdown",
   "metadata": {},
   "source": [
    "## Model Features\n",
    "\n",
    "The Keras model has a lot of features which are well documented at [keras.io](https://keras.io/).\n",
    "\n",
    "It is helpful to visualize the model structure and how data moves through it. \n"
   ]
  },
  {
   "cell_type": "markdown",
   "metadata": {},
   "source": [
    "### Visualization Methods\n",
    "\n",
    "**summary ( )** provides a summary of the model showing all of the layers in sequence, the layer type, shape of the data the layer produces, and the number of trainable parameters in the layer. Can be very useful to ensure we are building the model we expect. The number of trainable parameters is a key metric for determining the complexity of your model.\n",
    "\n",
    "\n",
    "**Plot_model ( )** produces a graphical depiction of the model hierarchy, showing each layer and the connections between layers. It creates a graphical file that can be used in presentations and included in documents. \n",
    "\n"
   ]
  },
  {
   "cell_type": "markdown",
   "metadata": {},
   "source": [
    "![Visualization](Images/03_04.jpg) "
   ]
  },
  {
   "cell_type": "code",
   "execution_count": null,
   "metadata": {
    "collapsed": true
   },
   "outputs": [],
   "source": [
    "model = Sequential()\n",
    "\n",
    "model.add(Dense(4, input_shape=(2,), activation='tanh', name='Hidden-1'))\n",
    "model.add(Dense(4, activation='tanh', name='Hidden-2'))\n",
    "model.add(Dense(1, activation='sigmoid', name='Output_layer'))\n",
    "\n",
    "model.summary()\n",
    "\n",
    "# Compile and fit the model\n",
    "model.compile(Adam(lr=0.05), 'binary_crossentropy', metrics=['accuracy'])\n",
    "\n",
    "from keras.utils import plot_model\n",
    "plot_model(model, to_file='model.png', show_shapes=True, show_layer_names=True)\n",
    "\n",
    "model.fit(X_train, y_train, epochs=100, verbose=0)"
   ]
  },
  {
   "cell_type": "markdown",
   "metadata": {},
   "source": [
    "![Visualization](Images/03_05.jpg) "
   ]
  },
  {
   "cell_type": "markdown",
   "metadata": {},
   "source": [
    "**Plot_model** creates a .png file. It shows a graphical display of the model from input to output. Also shows each layer type and the shape of the input and the output data."
   ]
  },
  {
   "cell_type": "markdown",
   "metadata": {},
   "source": [
    "![Plot_model](Images/03_06.jpg) "
   ]
  },
  {
   "cell_type": "markdown",
   "metadata": {},
   "source": [
    "-------\n",
    "\n",
    "\n",
    "### Callback Functions\n",
    "\n",
    "At key points in the training process, a Keras model can call functions that have access to the inner state and statistics of the model.\n",
    "\n",
    "Keras has an API that allows developers to create their own callbacks. \n",
    "\n"
   ]
  },
  {
   "cell_type": "markdown",
   "metadata": {},
   "source": [
    "![Callbacks](Images/03_07.jpg) "
   ]
  },
  {
   "cell_type": "markdown",
   "metadata": {},
   "source": [
    "-----\n",
    "\n",
    "### Adding an early stopping callback to our model"
   ]
  },
  {
   "cell_type": "markdown",
   "metadata": {},
   "source": [
    "This callback will stop the training when the parameter we specify stops improving. This lets us specify that the training should run for a large number of epochs and have the model terminate itself if the parameter stops improving. \n",
    "\n",
    "The patience parameter=5 signifies that if we do not see the validation accuracy (\"real world accuracy\") of this set proven for 5 consecutive epochs, the training should stop."
   ]
  },
  {
   "cell_type": "markdown",
   "metadata": {},
   "source": [
    "Having a list of callbacks makes it easy to have multiple callbacks."
   ]
  },
  {
   "cell_type": "code",
   "execution_count": 2,
   "metadata": {},
   "outputs": [
    {
     "name": "stderr",
     "output_type": "stream",
     "text": [
      "Using TensorFlow backend.\n"
     ]
    },
    {
     "data": {
      "text/plain": [
       "<matplotlib.figure.Figure at 0x113028518>"
      ]
     },
     "metadata": {},
     "output_type": "display_data"
    },
    {
     "name": "stdout",
     "output_type": "stream",
     "text": [
      "_________________________________________________________________\n",
      "Layer (type)                 Output Shape              Param #   \n",
      "=================================================================\n",
      "Hidden-1 (Dense)             (None, 4)                 12        \n",
      "_________________________________________________________________\n",
      "Hidden-2 (Dense)             (None, 4)                 20        \n",
      "_________________________________________________________________\n",
      "output_layer (Dense)         (None, 1)                 5         \n",
      "=================================================================\n",
      "Total params: 37\n",
      "Trainable params: 37\n",
      "Non-trainable params: 0\n",
      "_________________________________________________________________\n",
      "WARNING:tensorflow:From /Library/Frameworks/Python.framework/Versions/3.6/lib/python3.6/site-packages/keras/backend/tensorflow_backend.py:1349: calling reduce_mean (from tensorflow.python.ops.math_ops) with keep_dims is deprecated and will be removed in a future version.\n",
      "Instructions for updating:\n",
      "keep_dims is deprecated, use keepdims instead\n",
      "Train on 700 samples, validate on 300 samples\n",
      "Epoch 1/100\n",
      "700/700 [==============================] - 0s 612us/step - loss: 0.7024 - acc: 0.5529 - val_loss: 0.6783 - val_acc: 0.6967\n",
      "Epoch 2/100\n",
      "700/700 [==============================] - 0s 63us/step - loss: 0.6639 - acc: 0.6443 - val_loss: 0.6409 - val_acc: 0.7300\n",
      "Epoch 3/100\n",
      "700/700 [==============================] - 0s 65us/step - loss: 0.5963 - acc: 0.6814 - val_loss: 0.5539 - val_acc: 0.7467\n",
      "Epoch 4/100\n",
      "700/700 [==============================] - 0s 64us/step - loss: 0.4181 - acc: 0.8914 - val_loss: 0.3455 - val_acc: 0.8633\n",
      "Epoch 5/100\n",
      "700/700 [==============================] - 0s 60us/step - loss: 0.2308 - acc: 0.9243 - val_loss: 0.2677 - val_acc: 0.8867\n",
      "Epoch 6/100\n",
      "700/700 [==============================] - 0s 65us/step - loss: 0.1555 - acc: 0.9457 - val_loss: 0.3010 - val_acc: 0.8733\n",
      "Epoch 7/100\n",
      "700/700 [==============================] - 0s 64us/step - loss: 0.1508 - acc: 0.9386 - val_loss: 0.1744 - val_acc: 0.9333\n",
      "Epoch 8/100\n",
      "700/700 [==============================] - 0s 63us/step - loss: 0.1011 - acc: 0.9657 - val_loss: 0.1529 - val_acc: 0.9367\n",
      "Epoch 9/100\n",
      "700/700 [==============================] - 0s 60us/step - loss: 0.0781 - acc: 0.9771 - val_loss: 0.1458 - val_acc: 0.9400\n",
      "Epoch 10/100\n",
      "700/700 [==============================] - 0s 63us/step - loss: 0.0877 - acc: 0.9700 - val_loss: 0.1425 - val_acc: 0.9433\n",
      "Epoch 11/100\n",
      "700/700 [==============================] - 0s 62us/step - loss: 0.0893 - acc: 0.9743 - val_loss: 0.1317 - val_acc: 0.9267\n",
      "Epoch 12/100\n",
      "700/700 [==============================] - 0s 62us/step - loss: 0.0745 - acc: 0.9743 - val_loss: 0.1713 - val_acc: 0.9300\n",
      "Epoch 13/100\n",
      "700/700 [==============================] - 0s 63us/step - loss: 0.0670 - acc: 0.9829 - val_loss: 0.1197 - val_acc: 0.9467\n",
      "Epoch 14/100\n",
      "700/700 [==============================] - 0s 63us/step - loss: 0.0650 - acc: 0.9714 - val_loss: 0.2337 - val_acc: 0.9200\n",
      "Epoch 15/100\n",
      "700/700 [==============================] - 0s 62us/step - loss: 0.0885 - acc: 0.9614 - val_loss: 0.1614 - val_acc: 0.9367\n",
      "Epoch 16/100\n",
      "700/700 [==============================] - 0s 63us/step - loss: 0.0715 - acc: 0.9786 - val_loss: 0.1503 - val_acc: 0.9433\n",
      "Epoch 17/100\n",
      "700/700 [==============================] - 0s 63us/step - loss: 0.0813 - acc: 0.9657 - val_loss: 0.1654 - val_acc: 0.9300\n",
      "Epoch 18/100\n",
      "700/700 [==============================] - 0s 62us/step - loss: 0.0902 - acc: 0.9729 - val_loss: 0.1565 - val_acc: 0.9333\n",
      "300/300 [==============================] - 0s 34us/step\n",
      "\n",
      "\n",
      "Test Loss:  0.15652188804000616 \n",
      "Test Accuracy:  0.9333333333333333\n"
     ]
    },
    {
     "data": {
      "text/plain": [
       "<matplotlib.figure.Figure at 0x12213e9b0>"
      ]
     },
     "metadata": {},
     "output_type": "display_data"
    }
   ],
   "source": [
    "import os\n",
    "\n",
    "import numpy as np\n",
    "import matplotlib.pyplot as plt\n",
    "\n",
    "from sklearn.datasets import make_circles\n",
    "from sklearn.model_selection import train_test_split\n",
    "from keras.models import Sequential\n",
    "from keras.layers import Dense\n",
    "from keras.optimizers import Adam\n",
    "from keras.utils import plot_model\n",
    "from keras.callbacks import EarlyStopping\n",
    "\n",
    "os.environ['TF_CPP_MIN_LOG_LEVEL']='2'\n",
    "\n",
    "\n",
    "def plot_data(pl, X, y):\n",
    "    pl.plot(X[y==0, 0], X[y==0, 1], 'ob', alpha=0.5)\n",
    "    pl.plot(X[y==1, 0], X[y==1, 1], 'xr', alpha=0.5)\n",
    "    pl.legend(['0', '1'])\n",
    "    return pl\n",
    "\n",
    "def plot_decision_boundary(model, X, y):\n",
    "    amin, bmin = X.min(axis=0) - 0.1\n",
    "    amax, bmax = X.max(axis=0) + 0.1\n",
    "    hticks = np.linspace(amin, amax, 101)\n",
    "    vticks = np.linspace(bmin, bmax, 101)\n",
    "    aa, bb = np.meshgrid(hticks, vticks)\n",
    "    ab = np.c_[aa.ravel(), bb.ravel()]\n",
    "    c = model.predict(ab)\n",
    "    Z = c.reshape(aa.shape)\n",
    "    plt.figure(figsize=(12, 8))\n",
    "    plt.contourf(aa, bb, Z, cmap='bwr', alpha=0.2)\n",
    "    plot_data(plt, X, y)\n",
    "    return plt\n",
    "\n",
    "X, y = make_circles(n_samples=1000, factor=.6, noise=0.1, random_state=42)\n",
    "pl = plot_data(plt, X, y)\n",
    "pl.show()\n",
    "\n",
    "X_train, X_test, y_train, y_test = train_test_split(X, y, test_size=0.3, random_state=42)\n",
    "\n",
    "model = Sequential()\n",
    "model.add(Dense(4, input_shape=(2, ), activation='tanh', name='Hidden-1'))\n",
    "model.add(Dense(4, activation='tanh', name='Hidden-2'))\n",
    "model.add(Dense(1, activation='sigmoid', name='output_layer'))\n",
    "model.summary()\n",
    "\n",
    "model.compile(Adam(lr=0.05), 'binary_crossentropy', metrics=['accuracy'])\n",
    "\n",
    "\n",
    "# Defining early stopping callback\n",
    "early_callback = [EarlyStopping(monitor='val_acc', patience=5, mode='max')]\n",
    "\n",
    "model.fit(X_train, y_train, epochs=100, verbose=1, callbacks=early_callback, validation_data=(X_test, y_test))\n",
    "\n",
    "\n",
    "eval_result = model.evaluate(X_test, y_test)\n",
    "print(\"\\n\\nTest Loss: \", eval_result[0], \"\\nTest Accuracy: \", eval_result[1])\n",
    "\n",
    "plot_decision_boundary(model, X, y).show()"
   ]
  },
  {
   "cell_type": "code",
   "execution_count": null,
   "metadata": {
    "collapsed": true
   },
   "outputs": [],
   "source": []
  },
  {
   "cell_type": "code",
   "execution_count": null,
   "metadata": {
    "collapsed": true
   },
   "outputs": [],
   "source": []
  },
  {
   "cell_type": "code",
   "execution_count": null,
   "metadata": {
    "collapsed": true
   },
   "outputs": [],
   "source": []
  },
  {
   "cell_type": "code",
   "execution_count": null,
   "metadata": {
    "collapsed": true
   },
   "outputs": [],
   "source": []
  },
  {
   "cell_type": "code",
   "execution_count": null,
   "metadata": {
    "collapsed": true
   },
   "outputs": [],
   "source": []
  }
 ],
 "metadata": {
  "kernelspec": {
   "display_name": "Python 3",
   "language": "python",
   "name": "python3"
  },
  "language_info": {
   "codemirror_mode": {
    "name": "ipython",
    "version": 3
   },
   "file_extension": ".py",
   "mimetype": "text/x-python",
   "name": "python",
   "nbconvert_exporter": "python",
   "pygments_lexer": "ipython3",
   "version": "3.6.4"
  }
 },
 "nbformat": 4,
 "nbformat_minor": 2
}
