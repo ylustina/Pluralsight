{
 "cells": [
  {
   "cell_type": "markdown",
   "metadata": {},
   "source": [
    "## Creating Your First Neural Network with Keras\n",
    "\n",
    "We are going to use Tensorflow for our backend. \n",
    "\n",
    "The Tensorflow distribution has a built-in implementation of the Keras library. We will have close integration with Tensorflow to the point that Keras will use Tensorflow tensors as the main data structure. \n",
    "\n",
    "\n",
    "![Keras Installation](Images/02_01.jpg) \n",
    "\n",
    "The Tensorflow distribution has a built-in implementation of the Keras library. That will have close integration with Tensorflow to the point that Keras will use Tensorflow tensors as the main data structure. \n",
    "\n",
    "We will be using standalone Keras installation because that will give us more flexibility as to what backend we will use."
   ]
  },
  {
   "cell_type": "markdown",
   "metadata": {},
   "source": []
  },
  {
   "cell_type": "markdown",
   "metadata": {},
   "source": []
  },
  {
   "cell_type": "code",
   "execution_count": null,
   "metadata": {
    "collapsed": true
   },
   "outputs": [],
   "source": []
  },
  {
   "cell_type": "code",
   "execution_count": null,
   "metadata": {
    "collapsed": true
   },
   "outputs": [],
   "source": []
  },
  {
   "cell_type": "code",
   "execution_count": null,
   "metadata": {
    "collapsed": true
   },
   "outputs": [],
   "source": []
  }
 ],
 "metadata": {
  "kernelspec": {
   "display_name": "Python 3",
   "language": "python",
   "name": "python3"
  },
  "language_info": {
   "codemirror_mode": {
    "name": "ipython",
    "version": 3
   },
   "file_extension": ".py",
   "mimetype": "text/x-python",
   "name": "python",
   "nbconvert_exporter": "python",
   "pygments_lexer": "ipython3",
   "version": "3.6.3"
  }
 },
 "nbformat": 4,
 "nbformat_minor": 2
}
