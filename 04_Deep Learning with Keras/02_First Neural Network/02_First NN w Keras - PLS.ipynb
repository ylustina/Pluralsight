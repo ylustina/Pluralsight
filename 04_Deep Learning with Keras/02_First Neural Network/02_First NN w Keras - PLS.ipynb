{
 "cells": [
  {
   "cell_type": "markdown",
   "metadata": {},
   "source": [
    "## Creating Your First Neural Network with Keras\n",
    "\n",
    "We are going to use Tensorflow for our backend. \n",
    "\n",
    "The Tensorflow distribution has a built-in implementation of the Keras library. We will have close integration with Tensorflow to the point that Keras will use Tensorflow tensors as the main data structure. \n",
    "\n",
    "\n",
    "![Keras Installation](Images/02_01.jpg) \n",
    "\n",
    "The Tensorflow distribution has a built-in implementation of the Keras library. That will have close integration with Tensorflow to the point that Keras will use Tensorflow tensors as the main data structure. \n",
    "\n",
    "We will be using standalone Keras installation because that will give us more flexibility as to what backend we will use.\n",
    "\n",
    "-----------"
   ]
  },
  {
   "cell_type": "markdown",
   "metadata": {},
   "source": [
    "### Installing Tensorflow\n",
    "\n",
    "Installed tensorflow-gpu"
   ]
  },
  {
   "cell_type": "code",
   "execution_count": 1,
   "metadata": {},
   "outputs": [
    {
     "name": "stdout",
     "output_type": "stream",
     "text": [
      "Tensorflow version is: 1.5.0\n",
      "b'Hello from TensorFlow!'\n"
     ]
    }
   ],
   "source": [
    "# To verify that Tensorflow is working\n",
    "import tensorflow as tf\n",
    "\n",
    "# Print version\n",
    "print(\"Tensorflow version is: \" + str(tf.__version__))\n",
    "\n",
    "# Verify session works\n",
    "hello = tf.constant('Hello from TensorFlow!')\n",
    "sess = tf.Session()\n",
    "print(sess.run(hello))"
   ]
  },
  {
   "cell_type": "markdown",
   "metadata": {},
   "source": [
    "### Installing Keras\n",
    "\n",
    "Installed Keras"
   ]
  },
  {
   "cell_type": "code",
   "execution_count": 2,
   "metadata": {},
   "outputs": [
    {
     "name": "stdout",
     "output_type": "stream",
     "text": [
      "[[0. 0.]\n",
      " [0. 0.]\n",
      " [0. 0.]\n",
      " [0. 0.]]\n"
     ]
    },
    {
     "name": "stderr",
     "output_type": "stream",
     "text": [
      "Using TensorFlow backend.\n"
     ]
    }
   ],
   "source": [
    "# Keras imports\n",
    "import numpy as np\n",
    "from keras import backend as kbe\n",
    "\n",
    "# Test Keras - backend interaction\n",
    "data = kbe.variable(np.random.random((4, 2)))  # Creates a 4x2 tensor of random numbers\n",
    "zero_data = kbe.zeros_like(data)  # Creates a 4x2 tensor of zeros\n",
    "print(kbe.eval(zero_data))  # Evaluates the zero_data and prints results"
   ]
  },
  {
   "cell_type": "markdown",
   "metadata": {},
   "source": [
    "-----"
   ]
  },
  {
   "cell_type": "markdown",
   "metadata": {},
   "source": [
    "### Creating a Neural Network\n",
    "\n",
    "Creating a model using Keras which will define the optimal separation line between two data clusters."
   ]
  },
  {
   "cell_type": "markdown",
   "metadata": {
    "collapsed": true
   },
   "source": [
    "![Keras Installation](Images/02_02.jpg) \n"
   ]
  },
  {
   "cell_type": "markdown",
   "metadata": {},
   "source": [
    "---------\n",
    "\n",
    "### Imports"
   ]
  },
  {
   "cell_type": "code",
   "execution_count": 3,
   "metadata": {
    "collapsed": true
   },
   "outputs": [],
   "source": [
    "import os\n",
    "import numpy as np\n",
    "import matplotlib.pyplot as plt\n",
    "from sklearn.datasets import make_blobs\n",
    "\n",
    "os.environ['TF_CPP_MIN_LOG_LEVEL']='2'"
   ]
  },
  {
   "cell_type": "markdown",
   "metadata": {},
   "source": [
    "### Helper Functions\n",
    "#### Plotting the data on a figure"
   ]
  },
  {
   "cell_type": "code",
   "execution_count": 4,
   "metadata": {
    "collapsed": true
   },
   "outputs": [],
   "source": [
    "def plot_data(pl, X, y):\n",
    "    \n",
    "    # plot class where y==0\n",
    "    pl.plot(X[y==0, 0], X[y==0, 1], 'ob', alpha=0.5)\n",
    "    # plot class where y==1\n",
    "    pl.plot(X[y==1, 0], X[y==1, 1], 'xr', alpha=0.5)\n",
    "    pl.legend(['0', '1'])\n",
    "    return pl"
   ]
  },
  {
   "cell_type": "markdown",
   "metadata": {},
   "source": [
    "#### Common function that draws the decision boundaries"
   ]
  },
  {
   "cell_type": "code",
   "execution_count": 5,
   "metadata": {
    "collapsed": true
   },
   "outputs": [],
   "source": [
    "def plot_decision_boundary(model, X, y):\n",
    "\n",
    "    amin, bmin = X.min(axis=0) - 0.1\n",
    "    amax, bmax = X.max(axis=0) + 0.1\n",
    "    hticks = np.linspace(amin, amax, 101)\n",
    "    vticks = np.linspace(bmin, bmax, 101)\n",
    "\n",
    "    aa, bb = np.meshgrid(hticks, vticks)\n",
    "    ab = np.c_[aa.ravel(), bb.ravel()]\n",
    "\n",
    "    # make prediction with the model and reshape the output so contourf can plot it\n",
    "    c = model.predict(ab)\n",
    "    Z = c.reshape(aa.shape)\n",
    "\n",
    "    plt.figure(figsize=(12, 8))\n",
    "\n",
    "    # plot the contour rather than just the line\n",
    "    # allows us to see the confidence of the prediction\n",
    "    plt.contourf(aa, bb, Z, cmap='bwr', alpha=0.2)\n",
    "\n",
    "    # plot the moons of data\n",
    "    plot_data(plt, X, y)\n",
    "\n",
    "    return plt"
   ]
  },
  {
   "cell_type": "markdown",
   "metadata": {},
   "source": [
    "### Generating the Data Blobs\n",
    "\n",
    "Data will be either 0 or 1 when 2 is number of centers.\n",
    "\n",
    "X is a [ number of samples, 2 ] sized array. X [ sample ] contains its x, y position of the sample in the space.\n",
    "\n",
    "ex: X [ 1 ] = [ 1.342, -2.3 ],  X [ 2 ] = [ -4.342, 2.12 ]\n",
    "\n",
    "y is a [ number of samples ] sized array. y [ sample ] contains the class index (i.e., 0 or 1 when there are two centers).\n",
    "\n",
    "ex: y [ 1 ] = 0, y [ 1 ] = 1"
   ]
  },
  {
   "cell_type": "code",
   "execution_count": 6,
   "metadata": {
    "collapsed": true
   },
   "outputs": [],
   "source": [
    "X, y = make_blobs(n_samples=1000, centers=2, random_state=42)"
   ]
  },
  {
   "cell_type": "code",
   "execution_count": 7,
   "metadata": {},
   "outputs": [
    {
     "data": {
      "image/png": "[encoded data removed]",
      "text/plain": [
       "<matplotlib.figure.Figure at 0x121d77b38>"
      ]
     },
     "metadata": {},
     "output_type": "display_data"
    }
   ],
   "source": [
    "pl = plot_data(plt, X, y)\n",
    "pl.show()"
   ]
  },
  {
   "cell_type": "markdown",
   "metadata": {},
   "source": [
    "Clusters look easily separable, so we do not need a complex network to find a boundary to separate the two. In general, any data distribution that is linearly separable can be done without needing any hidden layers in our neural network. \n",
    "\n",
    "### Splitting the Dataset into Training and Testing"
   ]
  },
  {
   "cell_type": "code",
   "execution_count": 8,
   "metadata": {
    "collapsed": true
   },
   "outputs": [],
   "source": [
    "from sklearn.model_selection import train_test_split\n",
    "\n",
    "X_train, X_test, y_train, y_test = train_test_split(X, y, test_size=0.3, random_state=42)"
   ]
  },
  {
   "cell_type": "markdown",
   "metadata": {},
   "source": [
    "### Creating the Keras Model\n",
    "\n",
    "In the Dense layer, every neuron is connected to every neuron in the following layer, or to the output if there isn't a following layer. \n",
    "\n",
    "The Adam optimizer will perform back propagation to adjust the weights and biases to minimize error during training. \n",
    "\n",
    "The general patter for the sequential model:\n",
    "- Create Model\n",
    "- Add Layers from input to output\n",
    "- Compile Model\n",
    "- Train Model (via fit)\n",
    "- Evaluate performance of model against the testing/validation set\n",
    "\n",
    "\n",
    "#### Simple Sequential Model:\n"
   ]
  },
  {
   "cell_type": "code",
   "execution_count": 9,
   "metadata": {
    "collapsed": true
   },
   "outputs": [],
   "source": [
    "from keras.models import Sequential\n",
    "from keras.layers import Dense\n",
    "from keras.optimizers import Adam\n",
    "\n",
    "model = Sequential()\n",
    "\n",
    "model.add(Dense(1, input_shape=(2,), activation=\"sigmoid\"))"
   ]
  },
  {
   "cell_type": "markdown",
   "metadata": {},
   "source": [
    "Adds a Dense Fully Connected Layer with 1 neuron. Using input_shape = (2,) says the input will be arrays of the form (*,2). \n",
    "\n",
    "The first dimension will be an unspecified number of batches (rows) of data. The second dimension is 2 which are the X, Y positions of each data element.\n",
    "\n",
    "The sigmoid activation function is used to return 0 or 1, signifying the data cluster the position is predicted to belong to."
   ]
  },
  {
   "cell_type": "code",
   "execution_count": null,
   "metadata": {
    "collapsed": true
   },
   "outputs": [],
   "source": []
  },
  {
   "cell_type": "code",
   "execution_count": null,
   "metadata": {
    "collapsed": true
   },
   "outputs": [],
   "source": []
  },
  {
   "cell_type": "code",
   "execution_count": null,
   "metadata": {
    "collapsed": true
   },
   "outputs": [],
   "source": []
  }
 ],
 "metadata": {
  "kernelspec": {
   "display_name": "Python 3",
   "language": "python",
   "name": "python3"
  },
  "language_info": {
   "codemirror_mode": {
    "name": "ipython",
    "version": 3
   },
   "file_extension": ".py",
   "mimetype": "text/x-python",
   "name": "python",
   "nbconvert_exporter": "python",
   "pygments_lexer": "ipython3",
   "version": "3.6.4"
  }
 },
 "nbformat": 4,
 "nbformat_minor": 2
}
