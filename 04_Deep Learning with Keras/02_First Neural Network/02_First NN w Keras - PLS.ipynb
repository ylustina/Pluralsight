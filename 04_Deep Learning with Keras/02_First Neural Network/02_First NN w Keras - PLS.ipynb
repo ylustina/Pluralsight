{
 "cells": [
  {
   "cell_type": "markdown",
   "metadata": {},
   "source": [
    "## Creating Your First Neural Network with Keras\n",
    "\n",
    "We are going to use Tensorflow for our backend. \n",
    "\n",
    "The Tensorflow distribution has a built-in implementation of the Keras library. We will have close integration with Tensorflow to the point that Keras will use Tensorflow tensors as the main data structure. \n",
    "\n",
    "\n",
    "![Keras Installation](Images/02_01.jpg) \n",
    "\n",
    "The Tensorflow distribution has a built-in implementation of the Keras library. That will have close integration with Tensorflow to the point that Keras will use Tensorflow tensors as the main data structure. \n",
    "\n",
    "We will be using standalone Keras installation because that will give us more flexibility as to what backend we will use.\n",
    "\n",
    "-----------"
   ]
  },
  {
   "cell_type": "markdown",
   "metadata": {},
   "source": [
    "### Installing Tensorflow\n",
    "\n",
    "Installed tensorflow-gpu"
   ]
  },
  {
   "cell_type": "code",
   "execution_count": 1,
   "metadata": {},
   "outputs": [
    {
     "name": "stdout",
     "output_type": "stream",
     "text": [
      "Tensorflow version is: 1.5.0\n",
      "b'Hello from TensorFlow!'\n"
     ]
    }
   ],
   "source": [
    "# To verify that Tensorflow is working\n",
    "import tensorflow as tf\n",
    "\n",
    "# Print version\n",
    "print(\"Tensorflow version is: \" + str(tf.__version__))\n",
    "\n",
    "# Verify session works\n",
    "hello = tf.constant('Hello from TensorFlow!')\n",
    "sess = tf.Session()\n",
    "print(sess.run(hello))"
   ]
  },
  {
   "cell_type": "markdown",
   "metadata": {},
   "source": [
    "### Installing Keras\n",
    "\n",
    "Installed Keras"
   ]
  },
  {
   "cell_type": "code",
   "execution_count": 2,
   "metadata": {},
   "outputs": [
    {
     "name": "stdout",
     "output_type": "stream",
     "text": [
      "[[0. 0.]\n",
      " [0. 0.]\n",
      " [0. 0.]\n",
      " [0. 0.]]\n"
     ]
    },
    {
     "name": "stderr",
     "output_type": "stream",
     "text": [
      "Using TensorFlow backend.\n"
     ]
    }
   ],
   "source": [
    "# Keras imports\n",
    "import numpy as np\n",
    "from keras import backend as kbe\n",
    "\n",
    "# Test Keras - backend interaction\n",
    "data = kbe.variable(np.random.random((4, 2)))  # Creates a 4x2 tensor of random numbers\n",
    "zero_data = kbe.zeros_like(data)  # Creates a 4x2 tensor of zeros\n",
    "print(kbe.eval(zero_data))  # Evaluates the zero_data and prints results"
   ]
  },
  {
   "cell_type": "markdown",
   "metadata": {},
   "source": [
    "-----"
   ]
  },
  {
   "cell_type": "markdown",
   "metadata": {},
   "source": [
    "### Creating a Neural Network"
   ]
  },
  {
   "cell_type": "code",
   "execution_count": null,
   "metadata": {
    "collapsed": true
   },
   "outputs": [],
   "source": []
  }
 ],
 "metadata": {
  "kernelspec": {
   "display_name": "Python 3",
   "language": "python",
   "name": "python3"
  },
  "language_info": {
   "codemirror_mode": {
    "name": "ipython",
    "version": 3
   },
   "file_extension": ".py",
   "mimetype": "text/x-python",
   "name": "python",
   "nbconvert_exporter": "python",
   "pygments_lexer": "ipython3",
   "version": "3.6.4"
  }
 },
 "nbformat": 4,
 "nbformat_minor": 2
}
