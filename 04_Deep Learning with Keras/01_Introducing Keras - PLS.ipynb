{
 "cells": [
  {
   "cell_type": "markdown",
   "metadata": {
    "collapsed": true
   },
   "source": [
    "## Introducing Keras\n",
    "\n",
    "Keras can let us quickly create a network that might take hours or days to handcode in Python.\n",
    "\n",
    "Things covered in course:\n",
    "\n",
    "- Keras deep learning API\n",
    "- How Keras leverages frameworks like Tensorflow and Theano\n",
    "- Start with an easy network"
   ]
  },
  {
   "cell_type": "markdown",
   "metadata": {},
   "source": [
    "--------------------"
   ]
  },
  {
   "cell_type": "markdown",
   "metadata": {},
   "source": [
    "Keras is a machine learning library that you can use to create deep learning models that can solve many complex problems. It is a high-level neural network API, written in Python and capable of running on top of TensorFlow, CNTK, or Theano. \n",
    "\n",
    "\n",
    "\n",
    "\n"
   ]
  },
  {
   "cell_type": "markdown",
   "metadata": {
    "collapsed": true
   },
   "source": [
    "![Keras Environment](Images/04_01.jpg) "
   ]
  },
  {
   "cell_type": "markdown",
   "metadata": {},
   "source": [
    "Keras itself does not create or execute the neural network. Rather, Keras finds an API we code against, and our code will invoke Keras methods and pass the appropriate parameters."
   ]
  },
  {
   "cell_type": "markdown",
   "metadata": {},
   "source": [
    "### Neural Networks\n",
    "\n",
    "![Keras Environment](Images/04_02.jpg) \n"
   ]
  },
  {
   "cell_type": "markdown",
   "metadata": {},
   "source": [
    "**Input layer:** feeds data into the network. Could be from a table, images, sounds, output from a sensor etc.\n",
    "\n",
    "**Hidden layer(s):** Layers between input and output. If there are two or more hidden layers, the network is a deep learning network.\n",
    "\n",
    "**Output layer:** Output."
   ]
  },
  {
   "cell_type": "code",
   "execution_count": null,
   "metadata": {
    "collapsed": true
   },
   "outputs": [],
   "source": []
  }
 ],
 "metadata": {
  "kernelspec": {
   "display_name": "Python 3",
   "language": "python",
   "name": "python3"
  },
  "language_info": {
   "codemirror_mode": {
    "name": "ipython",
    "version": 3
   },
   "file_extension": ".py",
   "mimetype": "text/x-python",
   "name": "python",
   "nbconvert_exporter": "python",
   "pygments_lexer": "ipython3",
   "version": "3.6.3"
  }
 },
 "nbformat": 4,
 "nbformat_minor": 2
}
