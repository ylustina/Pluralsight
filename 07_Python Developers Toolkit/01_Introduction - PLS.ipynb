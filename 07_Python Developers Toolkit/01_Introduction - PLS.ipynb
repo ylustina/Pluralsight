{
 "cells": [
  {
   "cell_type": "markdown",
   "metadata": {},
   "source": [
    "### Course Overview\n",
    "\n",
    "- **Dependency management:** finding, installing, and uninstalling third party packages with pip\n",
    "\n",
    "- **Virtualenv:** setting up isolated Python environments\n",
    "\n",
    "- **Pylint:** automatically checks code quality\n",
    "\n",
    "- **Python debugger:** helps solve errors in your code\n",
    "\n",
    "- **Sphinx:** generating code documentation\n",
    "\n",
    "- **Packaging:** packaging and distributing your project"
   ]
  },
  {
   "cell_type": "markdown",
   "metadata": {},
   "source": [
    "Imported requests - request library allows you to send easy HTTP requests."
   ]
  },
  {
   "cell_type": "code",
   "execution_count": 4,
   "metadata": {},
   "outputs": [
    {
     "data": {
      "text/plain": [
       "'Chuck Norris has two speeds: Walk and Kill.'"
      ]
     },
     "execution_count": 4,
     "metadata": {},
     "output_type": "execute_result"
    }
   ],
   "source": [
    "import requests\n",
    "\n",
    "requests.get(\"http://api.icndb.com/jokes/random?exclude=explicit\").json()['value']['joke']"
   ]
  },
  {
   "cell_type": "code",
   "execution_count": null,
   "metadata": {
    "collapsed": true
   },
   "outputs": [],
   "source": []
  }
 ],
 "metadata": {
  "kernelspec": {
   "display_name": "Python 3",
   "language": "python",
   "name": "python3"
  },
  "language_info": {
   "codemirror_mode": {
    "name": "ipython",
    "version": 3
   },
   "file_extension": ".py",
   "mimetype": "text/x-python",
   "name": "python",
   "nbconvert_exporter": "python",
   "pygments_lexer": "ipython3",
   "version": "3.6.4"
  }
 },
 "nbformat": 4,
 "nbformat_minor": 2
}
