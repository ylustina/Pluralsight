{
 "cells": [
  {
   "cell_type": "markdown",
   "metadata": {},
   "source": [
    "### Course Overview\n",
    "\n",
    "- **Dependency management:** finding, installing, and uninstalling third party packages with pip\n",
    "\n",
    "- **Virtualenv:** setting up isolated Python environments\n",
    "\n",
    "- **Pylint:** automatically checks code quality\n",
    "\n",
    "- **Python debugger:** helps solve errors in your code\n",
    "\n",
    "- **Sphinx:** generating code documentation\n",
    "\n",
    "- **Packaging:** packaging and distributing your project"
   ]
  }
 ],
 "metadata": {
  "kernelspec": {
   "display_name": "Python 3",
   "language": "python",
   "name": "python3"
  },
  "language_info": {
   "codemirror_mode": {
    "name": "ipython",
    "version": 3
   },
   "file_extension": ".py",
   "mimetype": "text/x-python",
   "name": "python",
   "nbconvert_exporter": "python",
   "pygments_lexer": "ipython3",
   "version": "3.6.3"
  }
 },
 "nbformat": 4,
 "nbformat_minor": 2
}
