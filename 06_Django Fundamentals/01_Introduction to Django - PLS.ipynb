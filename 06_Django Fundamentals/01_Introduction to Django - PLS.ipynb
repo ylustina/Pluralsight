{
 "cells": [
  {
   "cell_type": "markdown",
   "metadata": {},
   "source": [
    "## Intro to Django\n",
    "\n",
    "Framework focuses on building web apps quickly with less code. We will be using Django 1.11 because it is the current LTS version. \n",
    "\n",
    "\n",
    "\n",
    "\n",
    "### What Django has to offer:\n",
    "- Object-Relational Mapping\n",
    "- URL Mapping\n",
    "- Templates\n",
    "- Forms\n",
    "- Admin\n",
    "- Packages\n",
    "\n",
    "Also-\n",
    "- User authentication\n",
    "- HTTP session handling\n",
    "- A high-performance caching system\n",
    "- Internationalization support\n",
    "\n"
   ]
  },
  {
   "cell_type": "markdown",
   "metadata": {},
   "source": [
    "** Django Principles** \n",
    "\n",
    "- More productive with less code\n",
    "- [Good, clean code](https://docs.djangoproject.com/en/dev/misc/design-philosophies/)\n",
    "- [Great Documentation](https://docs.djangoproject.com/en/2.0/)\n",
    "\n",
    "------\n"
   ]
  },
  {
   "cell_type": "markdown",
   "metadata": {},
   "source": [
    "### Model-template-view\n",
    "\n",
    "Core of every site built on Django. Variation on model-view-controller architecture. \n",
    "\n",
    "\n",
    "- **Model:** represents your data; maps model classes to database tables.\n",
    "    - Write a model class for each table in your database.\n",
    "   \n",
    "   \n",
    "    \n",
    "- **Templates:** generates HTML; interaction with user and presentation logic only. \n",
    "\n",
    "\n",
    "- **View:** Take HTTP request and returns response; may call Template and/or model.\n",
    "    - Will ask your web server for a page that's housed at the specific URL, and the view will return a response (usually an HTML page). \n",
    "    - May call the model layer to store or retrieve data from the database. \n",
    "    - To generate an HTML page and display the data we got from a database, the view may call a template. \n",
    "\n",
    "\n",
    "\n",
    "-----\n"
   ]
  },
  {
   "cell_type": "markdown",
   "metadata": {},
   "source": [
    "### Making a virtualenv\n",
    "\n",
    "mkdir django-course\n",
    "\n",
    "cd django-course\n",
    "\n",
    "python3 -m venv django-env\n",
    "\n",
    ". django-env/bin/activate \n"
   ]
  }
 ],
 "metadata": {
  "kernelspec": {
   "display_name": "Python 3",
   "language": "python",
   "name": "python3"
  },
  "language_info": {
   "codemirror_mode": {
    "name": "ipython",
    "version": 3
   },
   "file_extension": ".py",
   "mimetype": "text/x-python",
   "name": "python",
   "nbconvert_exporter": "python",
   "pygments_lexer": "ipython3",
   "version": "3.6.3"
  }
 },
 "nbformat": 4,
 "nbformat_minor": 2
}
