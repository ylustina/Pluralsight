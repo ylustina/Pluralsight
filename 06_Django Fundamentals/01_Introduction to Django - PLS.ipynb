{
 "cells": [
  {
   "cell_type": "markdown",
   "metadata": {},
   "source": [
    "## Intro to Django\n",
    "\n",
    "Framework focuses on building web apps quickly with less code.\n",
    "\n",
    "### What Django has to offer:\n",
    "- Object-Relational Mapping\n",
    "- URL Mapping\n",
    "- Templates\n",
    "- Forms\n",
    "- Admin\n",
    "- Packages\n",
    "\n",
    "Also-\n",
    "- User authentication\n",
    "- HTTP session handling\n",
    "- A high-performance caching system\n",
    "- Internationalization support\n",
    "\n"
   ]
  },
  {
   "cell_type": "markdown",
   "metadata": {},
   "source": [
    "** Django Principles** \n",
    "\n",
    "- More productive with less code\n",
    "- [Good, clean code](https://docs.djangoproject.com/en/dev/misc/design-philosophies/)\n",
    "- [Great Documentation](https://docs.djangoproject.com/en/2.0/)\n",
    "\n",
    "\n"
   ]
  },
  {
   "cell_type": "code",
   "execution_count": null,
   "metadata": {
    "collapsed": true
   },
   "outputs": [],
   "source": []
  }
 ],
 "metadata": {
  "kernelspec": {
   "display_name": "Python 3",
   "language": "python",
   "name": "python3"
  },
  "language_info": {
   "codemirror_mode": {
    "name": "ipython",
    "version": 3
   },
   "file_extension": ".py",
   "mimetype": "text/x-python",
   "name": "python",
   "nbconvert_exporter": "python",
   "pygments_lexer": "ipython3",
   "version": "3.6.3"
  }
 },
 "nbformat": 4,
 "nbformat_minor": 2
}
