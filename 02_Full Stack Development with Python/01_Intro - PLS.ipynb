{
 "cells": [
  {
   "cell_type": "markdown",
   "metadata": {},
   "source": [
    "### Intro to Course"
   ]
  },
  {
   "cell_type": "markdown",
   "metadata": {},
   "source": [
    "#### Full Stack Web Development with Python Using WEB2PY Framework"
   ]
  },
  {
   "cell_type": "markdown",
   "metadata": {},
   "source": [
    "Full stack web development has three major components:\n",
    "\n",
    "- front-end\n",
    "- server code \n",
    "- database\n",
    "\n",
    "\n"
   ]
  },
  {
   "cell_type": "markdown",
   "metadata": {
    "collapsed": true
   },
   "source": [
    "#### WEB2PY"
   ]
  },
  {
   "cell_type": "markdown",
   "metadata": {},
   "source": [
    "Integrates multiple technologies. Free open-source full-stack framework for rapid development of fast, scalable, secure and portable database-driven web-based applications. Written and programmable in Python.\n",
    "\n",
    "- Python\n",
    "- Bootstrap\n",
    "- Comes integrated with SQLite\n",
    "    - Great for small or medium-sized projects\n",
    "- Includes a full admin\n",
    "    - Have full CRUD capabilities (create, read, update, and delete records)"
   ]
  },
  {
   "cell_type": "markdown",
   "metadata": {},
   "source": [
    "#### Overview of Topics:"
   ]
  },
  {
   "cell_type": "markdown",
   "metadata": {},
   "source": [
    "- Download and install WEB2PY\n",
    "- MVC (Model View Controller) and SQLFORMS\n",
    "- Database Administration w/ CRUD ability\n",
    "- Filter, Sort, Update\n",
    "- Role Based Access\n",
    "- Relational Data\n"
   ]
  }
 ],
 "metadata": {
  "kernelspec": {
   "display_name": "Python 3",
   "language": "python",
   "name": "python3"
  },
  "language_info": {
   "codemirror_mode": {
    "name": "ipython",
    "version": 3
   },
   "file_extension": ".py",
   "mimetype": "text/x-python",
   "name": "python",
   "nbconvert_exporter": "python",
   "pygments_lexer": "ipython3",
   "version": "3.6.3"
  }
 },
 "nbformat": 4,
 "nbformat_minor": 2
}
